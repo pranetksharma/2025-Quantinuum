{
 "cells": [
  {
   "attachments": {},
   "cell_type": "markdown",
   "id": "637c2589",
   "metadata": {
    "nbsphinx": {
     "execute": "never"
    }
   },
   "source": [
    "# Nexus Quick Start\n",
    "## iQuHACK 2025"
   ]
  },
  {
   "cell_type": "markdown",
   "id": "b33d0004",
   "metadata": {},
   "source": [
    "Welcome to the Quantinuum Nexus Lab! A hosted Jupyter environment with the pre-installed Python software packages you'll need, including:\n",
    "\n",
    "* [`pytket`](https://tket.quantinuum.com/api-docs/index.html): Quantinuum's Python SDK for TKET quantum programming tools.\n",
    "* [`qnexus`](https://docs.quantinuum.com/nexus/): the client software for submitting jobs to the Quantinuum Nexus platform\n",
    "\n",
    "You can also open a terminal in the Lab to commit and push your changes to your team's fork of this repository.\n",
    "\n",
    "### Step 1. Enable access to the Quantinuum simulator and emulator\n",
    "\n",
    "We provide two systems for you to target when executing quantum circuits as part of the challenge.\n",
    "\n",
    "\n",
    "\n",
    "* `H1-Emulator` (recommmended): A noisy of Quantinuum's 20 qubit `H1-1` quantum computer hosted within Quantinuum Nexus.\n",
    "* `H1-1LE`: a noiseless simulator of Quantinuum's 20 qubit `H1-1` quantum computer.\n",
    "* `H1-1E`: a noisy 'emulator' of `H1-1`. This system is much closer to the actual `H1-1` machine, and has longer queuing times. We recommend only using this system when you need to execute your circuit on something closer to the real hardware.\n",
    "* `H1-1SC`: a 'syntax checker' system for optionally testing things out (it won't run any code but can be used for validation of your usage of the API). \n",
    "\n",
    "In order to access these systems, you'll need to activate your access:\n",
    "\n",
    "* Visit https://nexus.quantinuum.com/backends/quantinuum and enter your username and password credentials by selecting 'Configure'.\n",
    "* You'll know if this succeeds as your available Quantinuum devices will be displayed below. The `H1-1LE` simulator is very new and might not be displayed, so don't worry if it doesn't show up.\n",
    "\n",
    "\n",
    "### Step 2: Try out the example code below to compile and simulate your first circuit.\n",
    "\n",
    "- Copy this file or its contents into the Quantinuum Nexus hub and run the code below to see some example usage.\n"
   ]
  },
  {
   "cell_type": "markdown",
   "id": "8568469f",
   "metadata": {},
   "source": [
    "## Lets compose a quantum circuit using Pytket\n",
    "\n",
    "Nexus uses [pytket Circuits](https://cqcl.github.io/pytket/manual/manual_circuit.html). Here we'll create a simple one."
   ]
  },
  {
   "cell_type": "code",
   "execution_count": 1,
   "id": "fa8e85be",
   "metadata": {},
   "outputs": [
    {
     "data": {
      "text/html": [
       "\n",
       "\n",
       "\n",
       "\n",
       "\n",
       "\n",
       "<div style=\"resize: vertical; overflow: auto; height: 400px; display: block\">\n",
       "    <iframe srcdoc=\"\n",
       "&lt;!DOCTYPE html&gt;\n",
       "&lt;html lang=&#34;en&#34;&gt;\n",
       "&lt;head&gt;\n",
       "    &lt;meta charset=&#34;UTF-8&#34;&gt;\n",
       "    &lt;!-- Download Vue 3--&gt;\n",
       "&lt;script type=&#34;application/javascript&#34; src=&#34;https://cdn.jsdelivr.net/npm/vue@3&#34;&gt;&lt;/script&gt;\n",
       "&lt;!-- Download Circuit Renderer with styles --&gt;\n",
       "&lt;script type=&#34;application/javascript&#34; src=&#34;https://unpkg.com/pytket-circuit-renderer@0.10/dist/pytket-circuit-renderer.umd.js&#34;&gt;&lt;/script&gt;\n",
       "&lt;link rel=&#34;stylesheet&#34; href=&#34;https://unpkg.com/pytket-circuit-renderer@0.10/dist/pytket-circuit-renderer.css&#34;&gt;\n",
       "&lt;/head&gt;\n",
       "&lt;body&gt;\n",
       "\n",
       "\n",
       "    &lt;div id=&#34;circuit-display-vue-container-da3fe5f7-9f70-4226-8ec5-e5456cda4e8e&#34; class=&#34;pytket-circuit-display-container&#34;&gt;\n",
       "        &lt;div style=&#34;display: none&#34;&gt;\n",
       "            &lt;div id=&#34;circuit-json-to-display&#34;&gt;{&#34;bits&#34;: [[&#34;c&#34;, [0]], [&#34;c&#34;, [1]], [&#34;c&#34;, [2]], [&#34;c&#34;, [3]]], &#34;commands&#34;: [{&#34;args&#34;: [[&#34;q&#34;, [0]]], &#34;op&#34;: {&#34;type&#34;: &#34;H&#34;}}, {&#34;args&#34;: [[&#34;q&#34;, [0]], [&#34;q&#34;, [1]]], &#34;op&#34;: {&#34;type&#34;: &#34;CX&#34;}}, {&#34;args&#34;: [[&#34;q&#34;, [0]], [&#34;c&#34;, [0]]], &#34;op&#34;: {&#34;type&#34;: &#34;Measure&#34;}}, {&#34;args&#34;: [[&#34;q&#34;, [1]], [&#34;q&#34;, [2]]], &#34;op&#34;: {&#34;type&#34;: &#34;CX&#34;}}, {&#34;args&#34;: [[&#34;q&#34;, [1]], [&#34;c&#34;, [1]]], &#34;op&#34;: {&#34;type&#34;: &#34;Measure&#34;}}, {&#34;args&#34;: [[&#34;q&#34;, [2]], [&#34;q&#34;, [3]]], &#34;op&#34;: {&#34;type&#34;: &#34;CX&#34;}}, {&#34;args&#34;: [[&#34;q&#34;, [2]], [&#34;c&#34;, [2]]], &#34;op&#34;: {&#34;type&#34;: &#34;Measure&#34;}}, {&#34;args&#34;: [[&#34;q&#34;, [3]], [&#34;c&#34;, [3]]], &#34;op&#34;: {&#34;type&#34;: &#34;Measure&#34;}}], &#34;created_qubits&#34;: [], &#34;discarded_qubits&#34;: [], &#34;implicit_permutation&#34;: [[[&#34;q&#34;, [0]], [&#34;q&#34;, [0]]], [[&#34;q&#34;, [1]], [&#34;q&#34;, [1]]], [[&#34;q&#34;, [2]], [&#34;q&#34;, [2]]], [[&#34;q&#34;, [3]], [&#34;q&#34;, [3]]]], &#34;name&#34;: &#34;my-first-circuit&#34;, &#34;phase&#34;: &#34;0.0&#34;, &#34;qubits&#34;: [[&#34;q&#34;, [0]], [&#34;q&#34;, [1]], [&#34;q&#34;, [2]], [&#34;q&#34;, [3]]]}&lt;/div&gt;\n",
       "        &lt;/div&gt;\n",
       "        &lt;circuit-display-container\n",
       "                :circuit-element-str=&#34;&#39;#circuit-json-to-display&#39;&#34;\n",
       "                :init-render-options=&#34;initRenderOptions&#34;\n",
       "                view-format=&#34;None&#34;\n",
       "        &gt;&lt;/circuit-display-container&gt;\n",
       "    &lt;/div&gt;\n",
       "    &lt;script type=&#34;application/javascript&#34;&gt;\n",
       "      const circuitRendererUid = &#34;da3fe5f7-9f70-4226-8ec5-e5456cda4e8e&#34;;\n",
       "      const displayOptions = JSON.parse(&#39;{}&#39;);\n",
       "\n",
       "      // Script to initialise the circuit renderer app\n",
       "\n",
       "const { createApp } = Vue;\n",
       "const circuitDisplayContainer = window[&#34;pytket-circuit-renderer&#34;].default;\n",
       "// Init variables to be shared between circuit display instances\n",
       "if (typeof window.pytketCircuitDisplays === &#34;undefined&#34;) {\n",
       "    window.pytketCircuitDisplays = {};\n",
       "}\n",
       "// Create the root Vue component\n",
       "const app = createApp({\n",
       "    delimiters: [&#39;[[#&#39;, &#39;#]]&#39;],\n",
       "    components: { circuitDisplayContainer },\n",
       "    data () {\n",
       "      return {\n",
       "        initRenderOptions: displayOptions,\n",
       "      }\n",
       "    }\n",
       "})\n",
       "app.config.unwrapInjectedRef = true;\n",
       "app.mount(&#34;#circuit-display-vue-container-&#34;+circuitRendererUid);\n",
       "window.pytketCircuitDisplays[circuitRendererUid] = app;\n",
       "    &lt;/script&gt;\n",
       "\n",
       "\n",
       "\n",
       "&lt;/body&gt;\n",
       "&lt;/html&gt;\n",
       "\"\n",
       "            width=\"100%\" height=\"100%\"\n",
       "            style=\"border: none; outline: none; overflow: auto\"></iframe>\n",
       "</div>\n",
       "\n"
      ],
      "text/plain": [
       "<IPython.core.display.HTML object>"
      ]
     },
     "metadata": {},
     "output_type": "display_data"
    }
   ],
   "source": [
    "from pytket import Circuit\n",
    "from pytket.circuit.display import render_circuit_jupyter as draw\n",
    "\n",
    "circuit = Circuit(4, 4).H(0).CX(0, 1).CX(1, 2).CX(2, 3)\n",
    "circuit.measure_all()\n",
    "\n",
    "circuit.name = \"my-first-circuit\"\n",
    "\n",
    "draw(circuit)"
   ]
  },
  {
   "cell_type": "markdown",
   "id": "announced-viewer",
   "metadata": {},
   "source": [
    "### Create a Nexus Project\n",
    "\n",
    "A project is a way to compartmentalize your running jobs and data, allowing you to retrieve and share data easily."
   ]
  },
  {
   "cell_type": "code",
   "execution_count": 2,
   "id": "cdf45ead",
   "metadata": {},
   "outputs": [],
   "source": [
    "import qnexus as qnx\n",
    "\n",
    "# ADD YOUR OWN PROJECT NAME HERE\n",
    "project = qnx.projects.get_or_create(name=\"iquhack\")\n",
    "qnx.context.set_active_project(project)"
   ]
  },
  {
   "cell_type": "markdown",
   "id": "f8e81f3e",
   "metadata": {},
   "source": [
    "You should be able to see this project if you visit [https://nexus.quantinuum.com/projects/all](https://nexus.quantinuum.com/projects/all)"
   ]
  },
  {
   "cell_type": "code",
   "execution_count": 22,
   "id": "17e15346-6d4d-428f-844d-51894b25a935",
   "metadata": {},
   "outputs": [],
   "source": [
    "import datetime\n",
    "\n",
    "jobname_suffix = datetime.datetime.now().strftime(\"%Y_%m_%d-%H-%M-%S\")"
   ]
  },
  {
   "attachments": {},
   "cell_type": "markdown",
   "id": "15a83542",
   "metadata": {},
   "source": [
    "### Set up your Backend Configuration\n",
    "\n",
    "In Quantinuum Nexus, we use `BackendConfig`s to specify the details of the quantum system we want to target.\n",
    "\n",
    "\n",
    "For this example, we'll use ``QuantinuumConfig``, to configure Nexus to target a simulator for Quantinuum's `H1-1LE` device. \n",
    "\n",
    "We'll pass in the `device_name` and also `user_group=\"iQuHACK_2024\"` to identify jobs as part of iQuHack 2024."
   ]
  },
  {
   "cell_type": "code",
   "execution_count": 38,
   "id": "abc8440f",
   "metadata": {},
   "outputs": [],
   "source": [
    "h1_config = qnx.QuantinuumConfig(device_name=\"H1-Emulator\")\n",
    "\n",
    "aer_config = qnx.AerStateConfig()"
   ]
  },
  {
   "cell_type": "markdown",
   "id": "8c187c8d-8ba6-4b02-beb4-bd8d23ddfe69",
   "metadata": {},
   "source": [
    "## Upload and download circuits"
   ]
  },
  {
   "cell_type": "code",
   "execution_count": 5,
   "id": "66e15905-a279-492d-bb76-7f7999d53a5e",
   "metadata": {},
   "outputs": [],
   "source": [
    "ref = qnx.circuits.upload(circuit=circuit, name=f\"GHZ-Circuit-{jobname_suffix}\")"
   ]
  },
  {
   "cell_type": "code",
   "execution_count": 6,
   "id": "09c1c834-02c7-4ae4-8b93-63a3ab67e8da",
   "metadata": {},
   "outputs": [
    {
     "data": {
      "text/html": [
       "\n",
       "\n",
       "\n",
       "\n",
       "\n",
       "\n",
       "<div style=\"resize: vertical; overflow: auto; height: 400px; display: block\">\n",
       "    <iframe srcdoc=\"\n",
       "&lt;!DOCTYPE html&gt;\n",
       "&lt;html lang=&#34;en&#34;&gt;\n",
       "&lt;head&gt;\n",
       "    &lt;meta charset=&#34;UTF-8&#34;&gt;\n",
       "    &lt;!-- Download Vue 3--&gt;\n",
       "&lt;script type=&#34;application/javascript&#34; src=&#34;https://cdn.jsdelivr.net/npm/vue@3&#34;&gt;&lt;/script&gt;\n",
       "&lt;!-- Download Circuit Renderer with styles --&gt;\n",
       "&lt;script type=&#34;application/javascript&#34; src=&#34;https://unpkg.com/pytket-circuit-renderer@0.10/dist/pytket-circuit-renderer.umd.js&#34;&gt;&lt;/script&gt;\n",
       "&lt;link rel=&#34;stylesheet&#34; href=&#34;https://unpkg.com/pytket-circuit-renderer@0.10/dist/pytket-circuit-renderer.css&#34;&gt;\n",
       "&lt;/head&gt;\n",
       "&lt;body&gt;\n",
       "\n",
       "\n",
       "    &lt;div id=&#34;circuit-display-vue-container-66fe66e8-e653-4c9c-9e51-f6ee5611e292&#34; class=&#34;pytket-circuit-display-container&#34;&gt;\n",
       "        &lt;div style=&#34;display: none&#34;&gt;\n",
       "            &lt;div id=&#34;circuit-json-to-display&#34;&gt;{&#34;bits&#34;: [[&#34;c&#34;, [0]], [&#34;c&#34;, [1]], [&#34;c&#34;, [2]], [&#34;c&#34;, [3]]], &#34;commands&#34;: [{&#34;args&#34;: [[&#34;q&#34;, [0]]], &#34;op&#34;: {&#34;type&#34;: &#34;H&#34;}}, {&#34;args&#34;: [[&#34;q&#34;, [0]], [&#34;q&#34;, [1]]], &#34;op&#34;: {&#34;type&#34;: &#34;CX&#34;}}, {&#34;args&#34;: [[&#34;q&#34;, [0]], [&#34;c&#34;, [0]]], &#34;op&#34;: {&#34;type&#34;: &#34;Measure&#34;}}, {&#34;args&#34;: [[&#34;q&#34;, [1]], [&#34;q&#34;, [2]]], &#34;op&#34;: {&#34;type&#34;: &#34;CX&#34;}}, {&#34;args&#34;: [[&#34;q&#34;, [1]], [&#34;c&#34;, [1]]], &#34;op&#34;: {&#34;type&#34;: &#34;Measure&#34;}}, {&#34;args&#34;: [[&#34;q&#34;, [2]], [&#34;q&#34;, [3]]], &#34;op&#34;: {&#34;type&#34;: &#34;CX&#34;}}, {&#34;args&#34;: [[&#34;q&#34;, [2]], [&#34;c&#34;, [2]]], &#34;op&#34;: {&#34;type&#34;: &#34;Measure&#34;}}, {&#34;args&#34;: [[&#34;q&#34;, [3]], [&#34;c&#34;, [3]]], &#34;op&#34;: {&#34;type&#34;: &#34;Measure&#34;}}], &#34;created_qubits&#34;: [], &#34;discarded_qubits&#34;: [], &#34;implicit_permutation&#34;: [[[&#34;q&#34;, [0]], [&#34;q&#34;, [0]]], [[&#34;q&#34;, [1]], [&#34;q&#34;, [1]]], [[&#34;q&#34;, [2]], [&#34;q&#34;, [2]]], [[&#34;q&#34;, [3]], [&#34;q&#34;, [3]]]], &#34;name&#34;: &#34;GHZ-Circuit-2025_02_01-16-21-55&#34;, &#34;phase&#34;: &#34;0.0&#34;, &#34;qubits&#34;: [[&#34;q&#34;, [0]], [&#34;q&#34;, [1]], [&#34;q&#34;, [2]], [&#34;q&#34;, [3]]]}&lt;/div&gt;\n",
       "        &lt;/div&gt;\n",
       "        &lt;circuit-display-container\n",
       "                :circuit-element-str=&#34;&#39;#circuit-json-to-display&#39;&#34;\n",
       "                :init-render-options=&#34;initRenderOptions&#34;\n",
       "                view-format=&#34;None&#34;\n",
       "        &gt;&lt;/circuit-display-container&gt;\n",
       "    &lt;/div&gt;\n",
       "    &lt;script type=&#34;application/javascript&#34;&gt;\n",
       "      const circuitRendererUid = &#34;66fe66e8-e653-4c9c-9e51-f6ee5611e292&#34;;\n",
       "      const displayOptions = JSON.parse(&#39;{}&#39;);\n",
       "\n",
       "      // Script to initialise the circuit renderer app\n",
       "\n",
       "const { createApp } = Vue;\n",
       "const circuitDisplayContainer = window[&#34;pytket-circuit-renderer&#34;].default;\n",
       "// Init variables to be shared between circuit display instances\n",
       "if (typeof window.pytketCircuitDisplays === &#34;undefined&#34;) {\n",
       "    window.pytketCircuitDisplays = {};\n",
       "}\n",
       "// Create the root Vue component\n",
       "const app = createApp({\n",
       "    delimiters: [&#39;[[#&#39;, &#39;#]]&#39;],\n",
       "    components: { circuitDisplayContainer },\n",
       "    data () {\n",
       "      return {\n",
       "        initRenderOptions: displayOptions,\n",
       "      }\n",
       "    }\n",
       "})\n",
       "app.config.unwrapInjectedRef = true;\n",
       "app.mount(&#34;#circuit-display-vue-container-&#34;+circuitRendererUid);\n",
       "window.pytketCircuitDisplays[circuitRendererUid] = app;\n",
       "    &lt;/script&gt;\n",
       "\n",
       "\n",
       "\n",
       "&lt;/body&gt;\n",
       "&lt;/html&gt;\n",
       "\"\n",
       "            width=\"100%\" height=\"100%\"\n",
       "            style=\"border: none; outline: none; overflow: auto\"></iframe>\n",
       "</div>\n",
       "\n"
      ],
      "text/plain": [
       "<IPython.core.display.HTML object>"
      ]
     },
     "metadata": {},
     "output_type": "display_data"
    }
   ],
   "source": [
    "draw(ref.download_circuit())"
   ]
  },
  {
   "cell_type": "markdown",
   "id": "7d6705bb",
   "metadata": {},
   "source": [
    "### Compile the circuit\n",
    "\n",
    "Nexus offers compilation with the TKET quantum compiler, this is an easy way to:\n",
    "\n",
    "* Optimize the circuit\n",
    "* Convert it to run on a specific quantum device, which might not support all quantum gates.\n",
    "\n",
    "For the challenge you can use pytket directly to compile circuits, or you can get Nexus to do the compilation for you. If you'd like to disable any changes to your circuit other than making sure that the gateset is correct, you can always set `optimisation_level=0`."
   ]
  },
  {
   "cell_type": "code",
   "execution_count": 16,
   "id": "2e954153",
   "metadata": {},
   "outputs": [],
   "source": [
    "ref_compile_job = qnx.start_compile_job(\n",
    "    circuits=[ref],\n",
    "    backend_config=h1_config,\n",
    "    optimisation_level=2,\n",
    "    name=f\"compilation-job-{jobname_suffix}\"\n",
    ")"
   ]
  },
  {
   "cell_type": "markdown",
   "id": "eedb2e5f",
   "metadata": {},
   "source": [
    "You should now see the compile show up when you click on your project on [https://nexus.quantinuum.com/projects/all](https://nexus.quantinuum.com/projects/all).\n",
    "\n",
    "If you're curious to see what the compiler did, you can click on the job results and see all the passes the compiler performed on your circuit. "
   ]
  },
  {
   "cell_type": "code",
   "execution_count": 20,
   "id": "d78c0ee0-4e6f-4f38-9043-8789a4253693",
   "metadata": {},
   "outputs": [],
   "source": [
    "qnx.jobs.wait_for(ref_compile_job)\n",
    "ref_compiled_circuit = qnx.jobs.results(ref_compile_job)[0].get_output()"
   ]
  },
  {
   "cell_type": "code",
   "execution_count": 21,
   "id": "80b75c31-d0fa-46a9-83e8-f9b2bfb2462b",
   "metadata": {},
   "outputs": [
    {
     "data": {
      "text/html": [
       "\n",
       "\n",
       "\n",
       "\n",
       "\n",
       "\n",
       "<div style=\"resize: vertical; overflow: auto; height: 400px; display: block\">\n",
       "    <iframe srcdoc=\"\n",
       "&lt;!DOCTYPE html&gt;\n",
       "&lt;html lang=&#34;en&#34;&gt;\n",
       "&lt;head&gt;\n",
       "    &lt;meta charset=&#34;UTF-8&#34;&gt;\n",
       "    &lt;!-- Download Vue 3--&gt;\n",
       "&lt;script type=&#34;application/javascript&#34; src=&#34;https://cdn.jsdelivr.net/npm/vue@3&#34;&gt;&lt;/script&gt;\n",
       "&lt;!-- Download Circuit Renderer with styles --&gt;\n",
       "&lt;script type=&#34;application/javascript&#34; src=&#34;https://unpkg.com/pytket-circuit-renderer@0.10/dist/pytket-circuit-renderer.umd.js&#34;&gt;&lt;/script&gt;\n",
       "&lt;link rel=&#34;stylesheet&#34; href=&#34;https://unpkg.com/pytket-circuit-renderer@0.10/dist/pytket-circuit-renderer.css&#34;&gt;\n",
       "&lt;/head&gt;\n",
       "&lt;body&gt;\n",
       "\n",
       "\n",
       "    &lt;div id=&#34;circuit-display-vue-container-6da68a15-c05d-4cdc-ab98-23b7c9245ceb&#34; class=&#34;pytket-circuit-display-container&#34;&gt;\n",
       "        &lt;div style=&#34;display: none&#34;&gt;\n",
       "            &lt;div id=&#34;circuit-json-to-display&#34;&gt;{&#34;bits&#34;: [[&#34;c&#34;, [0]], [&#34;c&#34;, [1]], [&#34;c&#34;, [2]], [&#34;c&#34;, [3]]], &#34;commands&#34;: [{&#34;args&#34;: [[&#34;q&#34;, [0]]], &#34;op&#34;: {&#34;params&#34;: [&#34;-0.5&#34;, &#34;-1.5&#34;], &#34;type&#34;: &#34;PhasedX&#34;}}, {&#34;args&#34;: [[&#34;q&#34;, [1]]], &#34;op&#34;: {&#34;params&#34;: [&#34;0.5&#34;, &#34;-1.5&#34;], &#34;type&#34;: &#34;PhasedX&#34;}}, {&#34;args&#34;: [[&#34;q&#34;, [2]]], &#34;op&#34;: {&#34;params&#34;: [&#34;0.5&#34;, &#34;-1.5&#34;], &#34;type&#34;: &#34;PhasedX&#34;}}, {&#34;args&#34;: [[&#34;q&#34;, [3]]], &#34;op&#34;: {&#34;params&#34;: [&#34;0.5&#34;, &#34;-1.5&#34;], &#34;type&#34;: &#34;PhasedX&#34;}}, {&#34;args&#34;: [[&#34;q&#34;, [0]], [&#34;q&#34;, [1]]], &#34;op&#34;: {&#34;params&#34;: [&#34;0.5&#34;], &#34;type&#34;: &#34;ZZPhase&#34;}}, {&#34;args&#34;: [[&#34;q&#34;, [0]], [&#34;c&#34;, [0]]], &#34;op&#34;: {&#34;type&#34;: &#34;Measure&#34;}}, {&#34;args&#34;: [[&#34;q&#34;, [1]]], &#34;op&#34;: {&#34;params&#34;: [&#34;-1.5&#34;, &#34;0&#34;], &#34;type&#34;: &#34;PhasedX&#34;}}, {&#34;args&#34;: [[&#34;q&#34;, [1]], [&#34;q&#34;, [2]]], &#34;op&#34;: {&#34;params&#34;: [&#34;0.5&#34;], &#34;type&#34;: &#34;ZZPhase&#34;}}, {&#34;args&#34;: [[&#34;q&#34;, [1]], [&#34;c&#34;, [1]]], &#34;op&#34;: {&#34;type&#34;: &#34;Measure&#34;}}, {&#34;args&#34;: [[&#34;q&#34;, [2]]], &#34;op&#34;: {&#34;params&#34;: [&#34;-1.5&#34;, &#34;0&#34;], &#34;type&#34;: &#34;PhasedX&#34;}}, {&#34;args&#34;: [[&#34;q&#34;, [2]], [&#34;q&#34;, [3]]], &#34;op&#34;: {&#34;params&#34;: [&#34;0.5&#34;], &#34;type&#34;: &#34;ZZPhase&#34;}}, {&#34;args&#34;: [[&#34;q&#34;, [2]], [&#34;c&#34;, [2]]], &#34;op&#34;: {&#34;type&#34;: &#34;Measure&#34;}}, {&#34;args&#34;: [[&#34;q&#34;, [3]]], &#34;op&#34;: {&#34;params&#34;: [&#34;1/2&#34;, &#34;0&#34;], &#34;type&#34;: &#34;PhasedX&#34;}}, {&#34;args&#34;: [[&#34;q&#34;, [3]], [&#34;c&#34;, [3]]], &#34;op&#34;: {&#34;type&#34;: &#34;Measure&#34;}}], &#34;created_qubits&#34;: [], &#34;discarded_qubits&#34;: [], &#34;implicit_permutation&#34;: [[[&#34;q&#34;, [0]], [&#34;q&#34;, [0]]], [[&#34;q&#34;, [1]], [&#34;q&#34;, [1]]], [[&#34;q&#34;, [2]], [&#34;q&#34;, [2]]], [[&#34;q&#34;, [3]], [&#34;q&#34;, [3]]]], &#34;name&#34;: &#34;GHZ-Circuit-2025_02_01-16-21-55-EmulatorEnabledQuantinuumBackend-final&#34;, &#34;phase&#34;: &#34;0.25&#34;, &#34;qubits&#34;: [[&#34;q&#34;, [0]], [&#34;q&#34;, [1]], [&#34;q&#34;, [2]], [&#34;q&#34;, [3]]]}&lt;/div&gt;\n",
       "        &lt;/div&gt;\n",
       "        &lt;circuit-display-container\n",
       "                :circuit-element-str=&#34;&#39;#circuit-json-to-display&#39;&#34;\n",
       "                :init-render-options=&#34;initRenderOptions&#34;\n",
       "                view-format=&#34;None&#34;\n",
       "        &gt;&lt;/circuit-display-container&gt;\n",
       "    &lt;/div&gt;\n",
       "    &lt;script type=&#34;application/javascript&#34;&gt;\n",
       "      const circuitRendererUid = &#34;6da68a15-c05d-4cdc-ab98-23b7c9245ceb&#34;;\n",
       "      const displayOptions = JSON.parse(&#39;{}&#39;);\n",
       "\n",
       "      // Script to initialise the circuit renderer app\n",
       "\n",
       "const { createApp } = Vue;\n",
       "const circuitDisplayContainer = window[&#34;pytket-circuit-renderer&#34;].default;\n",
       "// Init variables to be shared between circuit display instances\n",
       "if (typeof window.pytketCircuitDisplays === &#34;undefined&#34;) {\n",
       "    window.pytketCircuitDisplays = {};\n",
       "}\n",
       "// Create the root Vue component\n",
       "const app = createApp({\n",
       "    delimiters: [&#39;[[#&#39;, &#39;#]]&#39;],\n",
       "    components: { circuitDisplayContainer },\n",
       "    data () {\n",
       "      return {\n",
       "        initRenderOptions: displayOptions,\n",
       "      }\n",
       "    }\n",
       "})\n",
       "app.config.unwrapInjectedRef = true;\n",
       "app.mount(&#34;#circuit-display-vue-container-&#34;+circuitRendererUid);\n",
       "window.pytketCircuitDisplays[circuitRendererUid] = app;\n",
       "    &lt;/script&gt;\n",
       "\n",
       "\n",
       "\n",
       "&lt;/body&gt;\n",
       "&lt;/html&gt;\n",
       "\"\n",
       "            width=\"100%\" height=\"100%\"\n",
       "            style=\"border: none; outline: none; overflow: auto\"></iframe>\n",
       "</div>\n",
       "\n"
      ],
      "text/plain": [
       "<IPython.core.display.HTML object>"
      ]
     },
     "metadata": {},
     "output_type": "display_data"
    }
   ],
   "source": [
    "compiled_circuit = ref_compiled_circuit.download_circuit()\n",
    "\n",
    "draw(compiled_circuit)"
   ]
  },
  {
   "cell_type": "markdown",
   "id": "5216cf39",
   "metadata": {},
   "source": [
    "### Submit the circuit for execution\n",
    "\n",
    "Nexus will take care of submitting the circuit to your chosen device and storing the results when it has executed.\n",
    "\n",
    "In this case we are executing the circuit on a simulator running in the Nexus cluster so we should get the results back quickly, however many quantum devices have lengthy queues in which case Nexus will track the job and retrieve the results when they are ready."
   ]
  },
  {
   "cell_type": "code",
   "execution_count": 24,
   "id": "opened-hobby",
   "metadata": {},
   "outputs": [
    {
     "ename": "ResourceCreateFailed",
     "evalue": "Failed to create resource with status code: 409, message: {\"message\":\"Conflict - Resource Already Exists\"}",
     "output_type": "error",
     "traceback": [
      "\u001b[0;31m---------------------------------------------------------------------------\u001b[0m",
      "\u001b[0;31mResourceCreateFailed\u001b[0m                      Traceback (most recent call last)",
      "Cell \u001b[0;32mIn[24], line 1\u001b[0m\n\u001b[0;32m----> 1\u001b[0m ref_execute_job \u001b[38;5;241m=\u001b[39m \u001b[43mqnx\u001b[49m\u001b[38;5;241;43m.\u001b[39;49m\u001b[43mstart_execute_job\u001b[49m\u001b[43m(\u001b[49m\n\u001b[1;32m      2\u001b[0m \u001b[43m    \u001b[49m\u001b[43mcircuits\u001b[49m\u001b[38;5;241;43m=\u001b[39;49m\u001b[43m[\u001b[49m\u001b[43mref_compiled_circuit\u001b[49m\u001b[43m]\u001b[49m\u001b[43m,\u001b[49m\n\u001b[1;32m      3\u001b[0m \u001b[43m    \u001b[49m\u001b[43mn_shots\u001b[49m\u001b[38;5;241;43m=\u001b[39;49m\u001b[43m[\u001b[49m\u001b[38;5;241;43m100\u001b[39;49m\u001b[43m]\u001b[49m\u001b[43m,\u001b[49m\n\u001b[1;32m      4\u001b[0m \u001b[43m    \u001b[49m\u001b[43mbackend_config\u001b[49m\u001b[38;5;241;43m=\u001b[39;49m\u001b[43mh1_config\u001b[49m\u001b[43m,\u001b[49m\n\u001b[1;32m      5\u001b[0m \u001b[43m    \u001b[49m\u001b[43mname\u001b[49m\u001b[38;5;241;43m=\u001b[39;49m\u001b[38;5;124;43mf\u001b[39;49m\u001b[38;5;124;43m\"\u001b[39;49m\u001b[38;5;124;43mexecution-job-\u001b[39;49m\u001b[38;5;132;43;01m{\u001b[39;49;00m\u001b[43mjobname_suffix\u001b[49m\u001b[38;5;132;43;01m}\u001b[39;49;00m\u001b[38;5;124;43m\"\u001b[39;49m\n\u001b[1;32m      6\u001b[0m \u001b[43m)\u001b[49m\n",
      "File \u001b[0;32m/opt/conda/lib/python3.10/site-packages/qnexus/context.py:172\u001b[0m, in \u001b[0;36mmerge_properties_from_context.<locals>._merge_properties_from_context\u001b[0;34m(*args, **kwargs)\u001b[0m\n\u001b[1;32m    170\u001b[0m     kwargs[\u001b[38;5;124m\"\u001b[39m\u001b[38;5;124mproperties\u001b[39m\u001b[38;5;124m\"\u001b[39m] \u001b[38;5;241m=\u001b[39m PropertiesDict()\n\u001b[1;32m    171\u001b[0m kwargs[\u001b[38;5;124m\"\u001b[39m\u001b[38;5;124mproperties\u001b[39m\u001b[38;5;124m\"\u001b[39m] \u001b[38;5;241m=\u001b[39m get_active_properties() \u001b[38;5;241m|\u001b[39m kwargs[\u001b[38;5;124m\"\u001b[39m\u001b[38;5;124mproperties\u001b[39m\u001b[38;5;124m\"\u001b[39m]\n\u001b[0;32m--> 172\u001b[0m \u001b[38;5;28;01mreturn\u001b[39;00m \u001b[43mfunc\u001b[49m\u001b[43m(\u001b[49m\u001b[38;5;241;43m*\u001b[39;49m\u001b[43margs\u001b[49m\u001b[43m,\u001b[49m\u001b[43m \u001b[49m\u001b[38;5;241;43m*\u001b[39;49m\u001b[38;5;241;43m*\u001b[39;49m\u001b[43mkwargs\u001b[49m\u001b[43m)\u001b[49m\n",
      "File \u001b[0;32m/opt/conda/lib/python3.10/site-packages/qnexus/client/jobs/_execute.py:111\u001b[0m, in \u001b[0;36mstart_execute_job\u001b[0;34m(circuits, n_shots, backend_config, name, description, properties, project, valid_check, postprocess, noisy_simulator, language, seed, credential_name, wasm_module, user_group)\u001b[0m\n\u001b[1;32m    106\u001b[0m resp \u001b[38;5;241m=\u001b[39m get_nexus_client()\u001b[38;5;241m.\u001b[39mpost(\n\u001b[1;32m    107\u001b[0m     \u001b[38;5;124m\"\u001b[39m\u001b[38;5;124m/api/jobs/v1beta\u001b[39m\u001b[38;5;124m\"\u001b[39m,\n\u001b[1;32m    108\u001b[0m     json\u001b[38;5;241m=\u001b[39mreq_dict,\n\u001b[1;32m    109\u001b[0m )\n\u001b[1;32m    110\u001b[0m \u001b[38;5;28;01mif\u001b[39;00m resp\u001b[38;5;241m.\u001b[39mstatus_code \u001b[38;5;241m!=\u001b[39m \u001b[38;5;241m202\u001b[39m:\n\u001b[0;32m--> 111\u001b[0m     \u001b[38;5;28;01mraise\u001b[39;00m qnx_exc\u001b[38;5;241m.\u001b[39mResourceCreateFailed(\n\u001b[1;32m    112\u001b[0m         message\u001b[38;5;241m=\u001b[39mresp\u001b[38;5;241m.\u001b[39mtext, status_code\u001b[38;5;241m=\u001b[39mresp\u001b[38;5;241m.\u001b[39mstatus_code\n\u001b[1;32m    113\u001b[0m     )\n\u001b[1;32m    115\u001b[0m \u001b[38;5;28;01mreturn\u001b[39;00m ExecuteJobRef(\n\u001b[1;32m    116\u001b[0m     \u001b[38;5;28mid\u001b[39m\u001b[38;5;241m=\u001b[39mresp\u001b[38;5;241m.\u001b[39mjson()[\u001b[38;5;124m\"\u001b[39m\u001b[38;5;124mdata\u001b[39m\u001b[38;5;124m\"\u001b[39m][\u001b[38;5;124m\"\u001b[39m\u001b[38;5;124mid\u001b[39m\u001b[38;5;124m\"\u001b[39m],\n\u001b[1;32m    117\u001b[0m     annotations\u001b[38;5;241m=\u001b[39mAnnotations\u001b[38;5;241m.\u001b[39mfrom_dict(resp\u001b[38;5;241m.\u001b[39mjson()[\u001b[38;5;124m\"\u001b[39m\u001b[38;5;124mdata\u001b[39m\u001b[38;5;124m\"\u001b[39m][\u001b[38;5;124m\"\u001b[39m\u001b[38;5;124mattributes\u001b[39m\u001b[38;5;124m\"\u001b[39m]),\n\u001b[0;32m   (...)\u001b[0m\n\u001b[1;32m    121\u001b[0m     project\u001b[38;5;241m=\u001b[39mproject,\n\u001b[1;32m    122\u001b[0m )\n",
      "\u001b[0;31mResourceCreateFailed\u001b[0m: Failed to create resource with status code: 409, message: {\"message\":\"Conflict - Resource Already Exists\"}"
     ]
    }
   ],
   "source": [
    "ref_execute_job = qnx.start_execute_job(\n",
    "    circuits=[ref_compiled_circuit],\n",
    "    n_shots=[100],\n",
    "    backend_config=h1_config,\n",
    "    name=f\"execution-job-{jobname_suffix}\"\n",
    ")"
   ]
  },
  {
   "cell_type": "code",
   "execution_count": 34,
   "id": "87b00dcb-b522-4874-af2a-2ac9aa6cc397",
   "metadata": {},
   "outputs": [
    {
     "data": {
      "text/plain": [
       "JobStatus(status=<StatusEnum.COMPLETED: 'Circuit has completed. Results are ready.'>, message='The job is completed.', error_detail=None, completed_time=datetime.datetime(2025, 2, 1, 16, 27, 38, 997256, tzinfo=datetime.timezone.utc), queued_time=None, submitted_time=datetime.datetime(2025, 2, 1, 16, 27, 20, 291252, tzinfo=datetime.timezone.utc), running_time=datetime.datetime(2025, 2, 1, 16, 27, 20, 563070, tzinfo=datetime.timezone.utc), cancelled_time=None, error_time=None, queue_position=None)"
      ]
     },
     "execution_count": 34,
     "metadata": {},
     "output_type": "execute_result"
    }
   ],
   "source": [
    "qnx.jobs.status(ref_execute_job)"
   ]
  },
  {
   "cell_type": "code",
   "execution_count": 35,
   "id": "39e9ac93-6ca5-48d1-b30d-d2c8d11e1e7c",
   "metadata": {},
   "outputs": [],
   "source": [
    "qnx.jobs.wait_for(ref_execute_job)\n",
    "ref_result = qnx.jobs.results(ref_execute_job)[0]\n",
    "backend_result = ref_result.download_result()"
   ]
  },
  {
   "cell_type": "code",
   "execution_count": 36,
   "id": "f1f7f8ca-541b-428e-9664-b4bc2b415312",
   "metadata": {},
   "outputs": [
    {
     "name": "stdout",
     "output_type": "stream",
     "text": [
      "Counter({(0, 0, 0, 0): 50, (1, 1, 1, 1): 50})\n"
     ]
    }
   ],
   "source": [
    "print(backend_result.get_counts())"
   ]
  },
  {
   "cell_type": "markdown",
   "id": "ce945166",
   "metadata": {},
   "source": [
    "You can also view the job from the project page on the Quantinuum Nexus website and check out the results there.\n",
    "\n",
    "\n",
    "### Next steps:\n",
    "\n",
    "Use the website to:\n",
    "- make a `Team` on the Nexus website and add your hackathon team members.\n",
    "- give this `Team` access to the Nexus `Project` you just created."
   ]
  }
 ],
 "metadata": {
  "kernelspec": {
   "display_name": "Python [conda env:base] *",
   "language": "python",
   "name": "conda-base-py"
  },
  "language_info": {
   "codemirror_mode": {
    "name": "ipython",
    "version": 3
   },
   "file_extension": ".py",
   "mimetype": "text/x-python",
   "name": "python",
   "nbconvert_exporter": "python",
   "pygments_lexer": "ipython3",
   "version": "3.10.11"
  },
  "widgets": {
   "application/vnd.jupyter.widget-state+json": {
    "state": {},
    "version_major": 2,
    "version_minor": 0
   }
  }
 },
 "nbformat": 4,
 "nbformat_minor": 5
}
