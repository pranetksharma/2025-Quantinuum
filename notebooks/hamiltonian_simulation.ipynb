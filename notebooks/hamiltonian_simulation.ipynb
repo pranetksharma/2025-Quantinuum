{
 "cells": [
  {
   "cell_type": "markdown",
   "metadata": {},
   "source": [
    "# Hamiltonian Simulation\n",
    "\n",
    "In this part of the challenge we study the evolution of closed quantum systems, i.e. systems that are described by a Hamiltonian operator $H$.\n",
    "One important aspect of this is the so-called Trotterization of the time evolution circuit, which we will explain in more detail below.\n",
    "\n",
    "Useful literature:\n",
    "- [1] A. Montanaro, Quantum Computation, Lecture notes, Chapter 7, https://people.maths.bris.ac.uk/~csxam/teaching/qc2020/lecturenotes.pdf \n",
    "- [2] T. Prosen, \"Exact nonequilibrium steady state of a strongly driven open XXZ chain\", arXiv:1106.2978, https://arxiv.org/abs/1106.2978 (2011)\n",
    "- [3] A. M. Childs et al., \"A Theory of Trotter Error\", https://arxiv.org/abs/1912.08854 (2021)\n",
    "- [4] Qiskit Docs, https://docs.quantum.ibm.com/api/qiskit/qiskit.synthesis.SuzukiTrotter\n",
    "- [5] Quantinuum Docs, https://docs.quantinuum.com/h-series/trainings/getting_started/pytket_quantinuum/Quantinuum_native_gate_compilation.html"
   ]
  },
  {
   "cell_type": "code",
   "execution_count": 367,
   "metadata": {},
   "outputs": [],
   "source": [
    "# configure some visualisations\n",
    "\n",
    "from pytket.circuit.display import get_circuit_renderer\n",
    "\n",
    "circuit_renderer = get_circuit_renderer()\n",
    "\n",
    "circuit_renderer.set_render_options(zx_style=False)\n",
    "circuit_renderer.set_render_options(crop_params=False)\n",
    "circuit_renderer.save_render_options()"
   ]
  },
  {
   "cell_type": "markdown",
   "metadata": {},
   "source": [
    "## Background"
   ]
  },
  {
   "cell_type": "markdown",
   "metadata": {},
   "source": [
    "##### Time evolution\n",
    "\n",
    "Quantum computers offer the potential to speedup simulations of systems in which quantum mechanical effects play a significant role.\n",
    "\n",
    "In quantum mechanics, the evolution of a system is governed by the Hamiltonian $H$. This is a Hermitian operator whose eigenvalues give the energy spectrum of the system. In what follows we will assume that a Hamiltonian can be represented as a ($2^N \\times 2^N$) matrix where $N$ is the number of qubits.\n",
    "\n",
    "The evolution of a pure quantum state is described by the Schrödinger equation\n",
    "\n",
    "$$\n",
    " i \\hbar \\frac{d}{dt} | \\psi(t)\\rangle = H |\\psi(t)\\rangle\n",
    "$$\n",
    "We wet $\\hbar = 1$ in the following.\n",
    "\n",
    "In general $H$ could be time dependent but we will not consider this case for now.\n",
    "\n",
    "\n",
    "It can be shown that the solution to this equation is \n",
    "\n",
    "$$\n",
    "|\\psi(t)\\rangle = e^{-i H t} |\\psi(0)\\rangle = U(t) |\\psi(0)\\rangle\\,, \\quad U(t) := e^{-i H t}\n",
    "$$\n",
    "\n",
    "We call the operator $U(t)$ the unitary time evolution operator.\n",
    "\n",
    "Observe that we are taking the exponential of the Hamiltonian matrix $H$. We can make sense of this using the series expansion of the exponential function.\n",
    "\n",
    "$$\n",
    "e^A = \\sum_{k=0}^\\infty \\frac{A^k}{k!}\\,.\n",
    "$$\n",
    "\n",
    "Now in order to simulate the evolution of a Hamiltonian $H$ on a quantum computer we need to express the time evolution operator in terms of elementary quantum gates.\n",
    "\n",
    "##### Decompososing Hamiltonians into Pauli operators\n",
    "\n",
    "Towards this goal, it is often useful to express $H$ as a linear combination of Pauli strings.\n",
    "$$\n",
    "H = \\sum_{j = 0}^{2^N -1} \\alpha_j P_j\\,, \\quad \\alpha_j \\in \\mathbb{R}\n",
    "$$\n",
    "Here each Pauli string $P_j$ is a tensor product of $N$ Pauli operators\n",
    "$$\n",
    "P_j = \\bigotimes_{j=0}^N \\sigma_j\\,, \\quad \\sigma_j \\in \\{I, X, Y, Z\\} \\,.\n",
    "$$\n",
    "The operators $P_j$ form a basis for all matrices of dimension $(2^N \\times 2^N)$. This means that any $N$ qubit operator can be expressed as a linear combination of Pauli strings $P_j$ with coefficients $\\alpha_j$.\n",
    "\n",
    "The $X, Y \\, \\text{and} \\, Z$ operators have the usual definitions\n",
    "$$\n",
    "X = \n",
    "\\begin{pmatrix}\n",
    "0 & 1 \\\\\n",
    "1 & 0\n",
    "\\end{pmatrix}\\,, \\quad Y = \n",
    "\\begin{pmatrix}\n",
    "0 & -i \\\\\n",
    "i & 0\n",
    "\\end{pmatrix}\\,, \\quad Z = \n",
    "\\begin{pmatrix}\n",
    "1 & 0 \\\\\n",
    "0 & -1\n",
    "\\end{pmatrix}\\,, \\quad\n",
    "I = \n",
    "\\begin{pmatrix}\n",
    "1 & 0 \\\\\n",
    "0 & 1\n",
    "\\end{pmatrix}\n",
    "$$\n",
    "\n",
    "Note that in general the terms of $H$, i.e. the different Pauli strings, do not commute with each other. This means that their commutator\n",
    "$$\n",
    "[P_i , P_j] \\coloneqq P_iP_j - P_jP_i \\neq 0\n",
    "$$\n",
    "is not zero. If for any two operators $A, B$ we have $[A, B] \\coloneqq AB - BA = 0$, both operators \"commute\", i.e. $AB = BA$.\n",
    "For commuting operators $A, B$, we have $e^{-it(A + B)} = e^{-itA}e^{-itB}$, i.e. the exponential factorizes. For Pauli strings $P_i$, each $e^{-itP_i}$ can be directly implemented as a quantum gate (as we see below), thus for Hamiltonians build from commuting Pauli strings, we have a straight-forward recipe to construct the time evolution operator $e^{-itH}$."
   ]
  },
  {
   "cell_type": "markdown",
   "metadata": {},
   "source": [
    "## Example: The XXZ Heisenberg model\n",
    "\n",
    "Now let's consider a concrete example of a Hamiltonian. We can start with the $XXZ$ model.\n",
    "$$\n",
    "H_{XXZ} = \\sum_{k=1}^{N-1} X^{(k)} X^{(k+1)} + Y^{(k)}  Y^{(k+1)} + \\Delta (Z^{(k)} Z^{(k+1)} ) \n",
    "$$\n",
    "with $\\Delta \\in \\mathbb{R}$. Here $A^{(k)} = I \\otimes \\cdots \\otimes I \\otimes A \\otimes I \\otimes \\cdots \\otimes I$, where $A \\in \\lbrace X, Y, Z\\rbrace$ is inserted on the $k$-th position, i.e. it is acting on the $k$-th qubits. Identities $I$ mean that no operations are performed on those qubits.\n",
    "\n",
    "\n",
    "This model describes a chain of $N$ qubits (sometimes also called spins), where each pair of neighboring spins $(i, i+1)$ interacts through the terms $XX$, $YY$ and $ZZ$.\n",
    "\n"
   ]
  },
  {
   "cell_type": "markdown",
   "metadata": {},
   "source": [
    "\n",
    "In the following we give an example how to implement this Hamiltonian in pytket.\n",
    "\n",
    "[See also [2], which will become important for the second part of this challenge on Lindblad simulation. They are using a slightly different form of the Hamiltonian, given below their Eq. (1). Show that this can be recast into the form given above.]"
   ]
  },
  {
   "cell_type": "markdown",
   "metadata": {},
   "source": [
    "With `._dict` we obtain a nice overview of all the Pauli strings $P_i$ and coefficients $\\alpha_i$."
   ]
  },
  {
   "cell_type": "code",
   "execution_count": 368,
   "metadata": {},
   "outputs": [],
   "source": [
    "from pytket.utils import QubitPauliOperator\n",
    "from pytket.pauli import Pauli, QubitPauliString\n",
    "import networkx as nx\n",
    "from pytket.circuit import Qubit\n",
    "\n",
    "def get_xxz_chain_hamiltonian(n_qubits: int, Delta_ZZ: float) -> QubitPauliOperator:\n",
    "    sites = nx.path_graph(n_qubits)\n",
    "    qpo_dict = {}\n",
    "    for e in sites.edges:\n",
    "        zz_term = QubitPauliString([Qubit(e[0]), Qubit(e[1])], [Pauli.Z, Pauli.Z])\n",
    "        xx_term = QubitPauliString([Qubit(e[0]), Qubit(e[1])], [Pauli.X, Pauli.X])\n",
    "        yy_term = QubitPauliString([Qubit(e[0]), Qubit(e[1])], [Pauli.Y, Pauli.Y])\n",
    "        qpo_dict[zz_term] = Delta_ZZ\n",
    "        qpo_dict[xx_term] = 1.0\n",
    "        qpo_dict[yy_term] = 1.0\n",
    "\n",
    "    return QubitPauliOperator(qpo_dict)"
   ]
  },
  {
   "cell_type": "code",
   "execution_count": 25,
   "metadata": {},
   "outputs": [],
   "source": [
    "n_qubits = 5\n",
    "Delta_ZZ = 1.72\n",
    "Delta_ZZ = 0.5\n",
    "\n",
    "xxz_ham = get_xxz_chain_hamiltonian(n_qubits=n_qubits, Delta_ZZ=Delta_ZZ)"
   ]
  },
  {
   "cell_type": "code",
   "execution_count": 4,
   "metadata": {},
   "outputs": [
    {
     "data": {
      "text/plain": [
       "{(Zq[0], Zq[1]): 0.500000000000000,\n",
       " (Xq[0], Xq[1]): 1.00000000000000,\n",
       " (Yq[0], Yq[1]): 1.00000000000000,\n",
       " (Zq[1], Zq[2]): 0.500000000000000,\n",
       " (Xq[1], Xq[2]): 1.00000000000000,\n",
       " (Yq[1], Yq[2]): 1.00000000000000,\n",
       " (Zq[2], Zq[3]): 0.500000000000000,\n",
       " (Xq[2], Xq[3]): 1.00000000000000,\n",
       " (Yq[2], Yq[3]): 1.00000000000000,\n",
       " (Zq[3], Zq[4]): 0.500000000000000,\n",
       " (Xq[3], Xq[4]): 1.00000000000000,\n",
       " (Yq[3], Yq[4]): 1.00000000000000}"
      ]
     },
     "execution_count": 4,
     "metadata": {},
     "output_type": "execute_result"
    }
   ],
   "source": [
    "xxz_ham._dict"
   ]
  },
  {
   "cell_type": "markdown",
   "metadata": {},
   "source": [
    "You can get the numpy or scipy matrix representations of the QubitPauliOperator with "
   ]
  },
  {
   "cell_type": "code",
   "execution_count": 26,
   "metadata": {},
   "outputs": [
    {
     "data": {
      "text/plain": [
       "(32, 32)"
      ]
     },
     "execution_count": 26,
     "metadata": {},
     "output_type": "execute_result"
    }
   ],
   "source": [
    "xxz_ham_matrix = xxz_ham.to_sparse_matrix(qubits=[Qubit(i) for i in range(n_qubits)]).todense()\n",
    "xxz_ham_matrix.shape"
   ]
  },
  {
   "cell_type": "markdown",
   "metadata": {},
   "source": [
    "Now we want to synthesise a circuit to implement the time evolution operator for $H_{XXZ}$\n",
    "$$\n",
    "U(t) = e^{-it \\sum_{k=1}^{N-1} X^{(k)} X^{(k+1)} + Y^{(k)}  Y^{(k+1)} + \\Delta (Z^{(k)} Z^{(k+1)} ) }\n",
    "$$\n",
    "\n",
    "In fact, the different terms in the XXZ Hamiltonian above commute with each other, which means that\n",
    "$$\n",
    "e^{-itH_{XXZ}} = \\prod_{k=1}^{N-1} e^{-it X^{(k)} X^{(k+1)}}  e^{-it Y^{(k)}  Y^{(k+1)}}  e^{-it \\Delta \\big( Z^{(k)} Z^{(k+1)} \\big)} .\n",
    "$$\n",
    "Each of the exponentials can be implemented as a quantum circuit and we obtain the full time evolution circuit by concatenating all of these circuits.\n",
    "\n",
    "First lets look at a circuit which simulates the evolution $e^{-it \\Delta Z^{(1)} Z^{(2)}} $.\n",
    "We can show that the circuit below does the job."
   ]
  },
  {
   "cell_type": "code",
   "execution_count": 8,
   "metadata": {},
   "outputs": [
    {
     "data": {
      "text/html": [
       "\n",
       "\n",
       "\n",
       "\n",
       "\n",
       "\n",
       "<div style=\"resize: vertical; overflow: auto; height: 400px; display: block\">\n",
       "    <iframe srcdoc=\"\n",
       "&lt;!DOCTYPE html&gt;\n",
       "&lt;html lang=&#34;en&#34;&gt;\n",
       "&lt;head&gt;\n",
       "    &lt;meta charset=&#34;UTF-8&#34;&gt;\n",
       "    &lt;!-- Download Vue 3--&gt;\n",
       "&lt;script type=&#34;application/javascript&#34; src=&#34;https://cdn.jsdelivr.net/npm/vue@3&#34;&gt;&lt;/script&gt;\n",
       "&lt;!-- Download Circuit Renderer with styles --&gt;\n",
       "&lt;script type=&#34;application/javascript&#34; src=&#34;https://unpkg.com/pytket-circuit-renderer@0.10/dist/pytket-circuit-renderer.umd.js&#34;&gt;&lt;/script&gt;\n",
       "&lt;link rel=&#34;stylesheet&#34; href=&#34;https://unpkg.com/pytket-circuit-renderer@0.10/dist/pytket-circuit-renderer.css&#34;&gt;\n",
       "&lt;/head&gt;\n",
       "&lt;body&gt;\n",
       "\n",
       "\n",
       "    &lt;div id=&#34;circuit-display-vue-container-e6e7f822-cdf8-4468-b85d-3c5817622e69&#34; class=&#34;pytket-circuit-display-container&#34;&gt;\n",
       "        &lt;div style=&#34;display: none&#34;&gt;\n",
       "            &lt;div id=&#34;circuit-json-to-display&#34;&gt;{&#34;bits&#34;: [], &#34;commands&#34;: [{&#34;args&#34;: [[&#34;q&#34;, [0]], [&#34;q&#34;, [1]]], &#34;op&#34;: {&#34;type&#34;: &#34;CX&#34;}}, {&#34;args&#34;: [[&#34;q&#34;, [1]]], &#34;op&#34;: {&#34;params&#34;: [&#34;2*t*Delta&#34;], &#34;type&#34;: &#34;Rz&#34;}}, {&#34;args&#34;: [[&#34;q&#34;, [0]], [&#34;q&#34;, [1]]], &#34;op&#34;: {&#34;type&#34;: &#34;CX&#34;}}], &#34;created_qubits&#34;: [], &#34;discarded_qubits&#34;: [], &#34;implicit_permutation&#34;: [[[&#34;q&#34;, [0]], [&#34;q&#34;, [0]]], [[&#34;q&#34;, [1]], [&#34;q&#34;, [1]]]], &#34;phase&#34;: &#34;0.0&#34;, &#34;qubits&#34;: [[&#34;q&#34;, [0]], [&#34;q&#34;, [1]]]}&lt;/div&gt;\n",
       "        &lt;/div&gt;\n",
       "        &lt;circuit-display-container\n",
       "                :circuit-element-str=&#34;&#39;#circuit-json-to-display&#39;&#34;\n",
       "                :init-render-options=&#34;initRenderOptions&#34;\n",
       "                view-format=&#34;None&#34;\n",
       "        &gt;&lt;/circuit-display-container&gt;\n",
       "    &lt;/div&gt;\n",
       "    &lt;script type=&#34;application/javascript&#34;&gt;\n",
       "      const circuitRendererUid = &#34;e6e7f822-cdf8-4468-b85d-3c5817622e69&#34;;\n",
       "      const displayOptions = JSON.parse(&#39;{}&#39;);\n",
       "\n",
       "      // Script to initialise the circuit renderer app\n",
       "\n",
       "const { createApp } = Vue;\n",
       "const circuitDisplayContainer = window[&#34;pytket-circuit-renderer&#34;].default;\n",
       "// Init variables to be shared between circuit display instances\n",
       "if (typeof window.pytketCircuitDisplays === &#34;undefined&#34;) {\n",
       "    window.pytketCircuitDisplays = {};\n",
       "}\n",
       "// Create the root Vue component\n",
       "const app = createApp({\n",
       "    delimiters: [&#39;[[#&#39;, &#39;#]]&#39;],\n",
       "    components: { circuitDisplayContainer },\n",
       "    data () {\n",
       "      return {\n",
       "        initRenderOptions: displayOptions,\n",
       "      }\n",
       "    }\n",
       "})\n",
       "app.config.unwrapInjectedRef = true;\n",
       "app.mount(&#34;#circuit-display-vue-container-&#34;+circuitRendererUid);\n",
       "window.pytketCircuitDisplays[circuitRendererUid] = app;\n",
       "    &lt;/script&gt;\n",
       "\n",
       "\n",
       "\n",
       "&lt;/body&gt;\n",
       "&lt;/html&gt;\n",
       "\"\n",
       "            width=\"100%\" height=\"100%\"\n",
       "            style=\"border: none; outline: none; overflow: auto\"></iframe>\n",
       "</div>\n",
       "\n"
      ],
      "text/plain": [
       "<IPython.core.display.HTML object>"
      ]
     },
     "metadata": {},
     "output_type": "display_data"
    }
   ],
   "source": [
    "from pytket import Circuit\n",
    "from sympy import symbols\n",
    "from pytket.circuit.display import render_circuit_jupyter as draw\n",
    "\n",
    "delta, t = symbols(\"Delta, t\")\n",
    "\n",
    "circ = Circuit(2)\n",
    "circ.CX(0, 1)\n",
    "circ.Rz(2*delta * t, 1)\n",
    "circ.CX(0, 1)\n",
    "\n",
    "draw(circ)"
   ]
  },
  {
   "cell_type": "markdown",
   "metadata": {},
   "source": [
    "Similarly for a term like $e^{-it \\Delta Z^{(1)} Z^{(2)} Z^{(3)}} $ the three qubit circuit works\n"
   ]
  },
  {
   "cell_type": "code",
   "execution_count": 9,
   "metadata": {},
   "outputs": [
    {
     "data": {
      "text/html": [
       "\n",
       "\n",
       "\n",
       "\n",
       "\n",
       "\n",
       "<div style=\"resize: vertical; overflow: auto; height: 400px; display: block\">\n",
       "    <iframe srcdoc=\"\n",
       "&lt;!DOCTYPE html&gt;\n",
       "&lt;html lang=&#34;en&#34;&gt;\n",
       "&lt;head&gt;\n",
       "    &lt;meta charset=&#34;UTF-8&#34;&gt;\n",
       "    &lt;!-- Download Vue 3--&gt;\n",
       "&lt;script type=&#34;application/javascript&#34; src=&#34;https://cdn.jsdelivr.net/npm/vue@3&#34;&gt;&lt;/script&gt;\n",
       "&lt;!-- Download Circuit Renderer with styles --&gt;\n",
       "&lt;script type=&#34;application/javascript&#34; src=&#34;https://unpkg.com/pytket-circuit-renderer@0.10/dist/pytket-circuit-renderer.umd.js&#34;&gt;&lt;/script&gt;\n",
       "&lt;link rel=&#34;stylesheet&#34; href=&#34;https://unpkg.com/pytket-circuit-renderer@0.10/dist/pytket-circuit-renderer.css&#34;&gt;\n",
       "&lt;/head&gt;\n",
       "&lt;body&gt;\n",
       "\n",
       "\n",
       "    &lt;div id=&#34;circuit-display-vue-container-38f0c586-b568-46b6-bf53-f860f4c00a14&#34; class=&#34;pytket-circuit-display-container&#34;&gt;\n",
       "        &lt;div style=&#34;display: none&#34;&gt;\n",
       "            &lt;div id=&#34;circuit-json-to-display&#34;&gt;{&#34;bits&#34;: [], &#34;commands&#34;: [{&#34;args&#34;: [[&#34;q&#34;, [0]], [&#34;q&#34;, [1]]], &#34;op&#34;: {&#34;type&#34;: &#34;CX&#34;}}, {&#34;args&#34;: [[&#34;q&#34;, [1]], [&#34;q&#34;, [2]]], &#34;op&#34;: {&#34;type&#34;: &#34;CX&#34;}}, {&#34;args&#34;: [[&#34;q&#34;, [2]]], &#34;op&#34;: {&#34;params&#34;: [&#34;2*t*Delta&#34;], &#34;type&#34;: &#34;Rz&#34;}}, {&#34;args&#34;: [[&#34;q&#34;, [1]], [&#34;q&#34;, [2]]], &#34;op&#34;: {&#34;type&#34;: &#34;CX&#34;}}, {&#34;args&#34;: [[&#34;q&#34;, [0]], [&#34;q&#34;, [1]]], &#34;op&#34;: {&#34;type&#34;: &#34;CX&#34;}}], &#34;created_qubits&#34;: [], &#34;discarded_qubits&#34;: [], &#34;implicit_permutation&#34;: [[[&#34;q&#34;, [0]], [&#34;q&#34;, [0]]], [[&#34;q&#34;, [1]], [&#34;q&#34;, [1]]], [[&#34;q&#34;, [2]], [&#34;q&#34;, [2]]]], &#34;phase&#34;: &#34;0.0&#34;, &#34;qubits&#34;: [[&#34;q&#34;, [0]], [&#34;q&#34;, [1]], [&#34;q&#34;, [2]]]}&lt;/div&gt;\n",
       "        &lt;/div&gt;\n",
       "        &lt;circuit-display-container\n",
       "                :circuit-element-str=&#34;&#39;#circuit-json-to-display&#39;&#34;\n",
       "                :init-render-options=&#34;initRenderOptions&#34;\n",
       "                view-format=&#34;None&#34;\n",
       "        &gt;&lt;/circuit-display-container&gt;\n",
       "    &lt;/div&gt;\n",
       "    &lt;script type=&#34;application/javascript&#34;&gt;\n",
       "      const circuitRendererUid = &#34;38f0c586-b568-46b6-bf53-f860f4c00a14&#34;;\n",
       "      const displayOptions = JSON.parse(&#39;{}&#39;);\n",
       "\n",
       "      // Script to initialise the circuit renderer app\n",
       "\n",
       "const { createApp } = Vue;\n",
       "const circuitDisplayContainer = window[&#34;pytket-circuit-renderer&#34;].default;\n",
       "// Init variables to be shared between circuit display instances\n",
       "if (typeof window.pytketCircuitDisplays === &#34;undefined&#34;) {\n",
       "    window.pytketCircuitDisplays = {};\n",
       "}\n",
       "// Create the root Vue component\n",
       "const app = createApp({\n",
       "    delimiters: [&#39;[[#&#39;, &#39;#]]&#39;],\n",
       "    components: { circuitDisplayContainer },\n",
       "    data () {\n",
       "      return {\n",
       "        initRenderOptions: displayOptions,\n",
       "      }\n",
       "    }\n",
       "})\n",
       "app.config.unwrapInjectedRef = true;\n",
       "app.mount(&#34;#circuit-display-vue-container-&#34;+circuitRendererUid);\n",
       "window.pytketCircuitDisplays[circuitRendererUid] = app;\n",
       "    &lt;/script&gt;\n",
       "\n",
       "\n",
       "\n",
       "&lt;/body&gt;\n",
       "&lt;/html&gt;\n",
       "\"\n",
       "            width=\"100%\" height=\"100%\"\n",
       "            style=\"border: none; outline: none; overflow: auto\"></iframe>\n",
       "</div>\n",
       "\n"
      ],
      "text/plain": [
       "<IPython.core.display.HTML object>"
      ]
     },
     "metadata": {},
     "output_type": "display_data"
    }
   ],
   "source": [
    "circ1 = Circuit(3)\n",
    "circ1.CX(0, 1)\n",
    "circ1.CX(1, 2)\n",
    "circ1.Rz(2*delta * t, 2)\n",
    "circ1.CX(1, 2)\n",
    "circ1.CX(0, 1)\n",
    "\n",
    "draw(circ1)"
   ]
  },
  {
   "cell_type": "markdown",
   "metadata": {},
   "source": [
    "Here, $\\mathrm{Rz}$ gate is defined as \n",
    "$$\n",
    "\\mathrm{Rz}(\\alpha) = e^{-\\frac12 i \\pi \\alpha Z} = \\left[\n",
    "    \\begin{array}{cc} e^{-\\frac12 i \\pi\\alpha} & 0 \\\\ 0 & e^{\\frac12 i\n",
    "    \\pi\\alpha} \\end{array} \\right] \\,.\n",
    "$$"
   ]
  },
  {
   "cell_type": "markdown",
   "metadata": {},
   "source": [
    "### Task 1: Implement the time evolution under the XXZ Hamiltonian.\n",
    "\n",
    "We can easily generate the time evolution under the XXZ Hamiltonian via\n",
    "$$\n",
    "e^{-itH_{XXZ}} = \\prod_{k=1}^{N-1} e^{-it X^{(k)} X^{(k+1)}}  e^{-it Y^{(k)} Y^{(k+1)}}  e^{-it \\Delta \\big( Z^{(k)} Z^{(k+1)} \\big)} .\n",
    "$$\n",
    "\n",
    "For example, we can use pytket's build-in function `gen_term_sequence_circuit`. Note, you will have to multiply the Hamiltonian (a `QubitPauliOperator`) with the evolution time $t$ to perform the correct time evolution.\n",
    "\n",
    "- Implement the time evolution circuit under $H_{XXZ}$ for a given target time $t$.\n",
    "- Draw the circuit. In pytket you might want to use `DecomposeBoxes()` to visualize all the single- and two-qubit gates.\n",
    "- Explore different ways how to implement the circuit (see the hints below).\n",
    "- Use an empty circuit to initialize the time evolution circuit. I.e. our initial state is $\\ket{\\psi} = \\ket{0}^{\\otimes N}$.\n",
    "\n",
    "Hints:\n",
    "- Study the commutator relation between the two terms of $K_i$. What does this imply?\n",
    "- Alternatively, the two qubit gates $e^{-\\alpha X^{(i)} X^{(j)}}$ and $e^{-\\alpha Y^{(i)} Y^{(j)}}$ can be implemented in pytket via `XXPhase` and `YYPhase`.\n",
    "- Or you can also use pytket's `TK2` gate which implements and arbitrary angle SU(4) gate [x]."
   ]
  },
  {
   "cell_type": "code",
   "execution_count": null,
   "metadata": {},
   "outputs": [],
   "source": [
    "from pytket.passes import DecomposeBoxes"
   ]
  },
  {
   "cell_type": "code",
   "execution_count": 122,
   "metadata": {},
   "outputs": [],
   "source": [
    "import math\n",
    "\n",
    "def build_XXZ_hamiltonian_circ(n_qubits: int, delta, t) -> Circuit:\n",
    "    xxz_circ = Circuit(n_qubits)\n",
    "    for k in range(n_qubits - 1):\n",
    "        # need t = alpha * pi/2 => alpha = 2t/pi\n",
    "        xxz_circ.XXPhase(2*t/math.pi, k, k + 1)\n",
    "        xxz_circ.YYPhase(2*t/math.pi, k, k + 1)\n",
    "        xxz_circ.ZZPhase(2*t/math.pi*delta, k, k + 1)\n",
    "    return xxz_circ"
   ]
  },
  {
   "cell_type": "code",
   "execution_count": 123,
   "metadata": {},
   "outputs": [
    {
     "data": {
      "text/html": [
       "\n",
       "\n",
       "\n",
       "\n",
       "\n",
       "\n",
       "<div style=\"resize: vertical; overflow: auto; height: 400px; display: block\">\n",
       "    <iframe srcdoc=\"\n",
       "&lt;!DOCTYPE html&gt;\n",
       "&lt;html lang=&#34;en&#34;&gt;\n",
       "&lt;head&gt;\n",
       "    &lt;meta charset=&#34;UTF-8&#34;&gt;\n",
       "    &lt;!-- Download Vue 3--&gt;\n",
       "&lt;script type=&#34;application/javascript&#34; src=&#34;https://cdn.jsdelivr.net/npm/vue@3&#34;&gt;&lt;/script&gt;\n",
       "&lt;!-- Download Circuit Renderer with styles --&gt;\n",
       "&lt;script type=&#34;application/javascript&#34; src=&#34;https://unpkg.com/pytket-circuit-renderer@0.10/dist/pytket-circuit-renderer.umd.js&#34;&gt;&lt;/script&gt;\n",
       "&lt;link rel=&#34;stylesheet&#34; href=&#34;https://unpkg.com/pytket-circuit-renderer@0.10/dist/pytket-circuit-renderer.css&#34;&gt;\n",
       "&lt;/head&gt;\n",
       "&lt;body&gt;\n",
       "\n",
       "\n",
       "    &lt;div id=&#34;circuit-display-vue-container-13b76f17-fab2-498b-8f2f-209b65545e69&#34; class=&#34;pytket-circuit-display-container&#34;&gt;\n",
       "        &lt;div style=&#34;display: none&#34;&gt;\n",
       "            &lt;div id=&#34;circuit-json-to-display&#34;&gt;{&#34;bits&#34;: [], &#34;commands&#34;: [{&#34;args&#34;: [[&#34;q&#34;, [0]], [&#34;q&#34;, [1]]], &#34;op&#34;: {&#34;params&#34;: [&#34;0.636619772367581&#34;], &#34;type&#34;: &#34;XXPhase&#34;}}, {&#34;args&#34;: [[&#34;q&#34;, [0]], [&#34;q&#34;, [1]]], &#34;op&#34;: {&#34;params&#34;: [&#34;0.636619772367581&#34;], &#34;type&#34;: &#34;YYPhase&#34;}}, {&#34;args&#34;: [[&#34;q&#34;, [0]], [&#34;q&#34;, [1]]], &#34;op&#34;: {&#34;params&#34;: [&#34;0.636619772367581*Delta&#34;], &#34;type&#34;: &#34;ZZPhase&#34;}}, {&#34;args&#34;: [[&#34;q&#34;, [1]], [&#34;q&#34;, [2]]], &#34;op&#34;: {&#34;params&#34;: [&#34;0.636619772367581&#34;], &#34;type&#34;: &#34;XXPhase&#34;}}, {&#34;args&#34;: [[&#34;q&#34;, [1]], [&#34;q&#34;, [2]]], &#34;op&#34;: {&#34;params&#34;: [&#34;0.636619772367581&#34;], &#34;type&#34;: &#34;YYPhase&#34;}}, {&#34;args&#34;: [[&#34;q&#34;, [1]], [&#34;q&#34;, [2]]], &#34;op&#34;: {&#34;params&#34;: [&#34;0.636619772367581*Delta&#34;], &#34;type&#34;: &#34;ZZPhase&#34;}}, {&#34;args&#34;: [[&#34;q&#34;, [2]], [&#34;q&#34;, [3]]], &#34;op&#34;: {&#34;params&#34;: [&#34;0.636619772367581&#34;], &#34;type&#34;: &#34;XXPhase&#34;}}, {&#34;args&#34;: [[&#34;q&#34;, [2]], [&#34;q&#34;, [3]]], &#34;op&#34;: {&#34;params&#34;: [&#34;0.636619772367581&#34;], &#34;type&#34;: &#34;YYPhase&#34;}}, {&#34;args&#34;: [[&#34;q&#34;, [2]], [&#34;q&#34;, [3]]], &#34;op&#34;: {&#34;params&#34;: [&#34;0.636619772367581*Delta&#34;], &#34;type&#34;: &#34;ZZPhase&#34;}}], &#34;created_qubits&#34;: [], &#34;discarded_qubits&#34;: [], &#34;implicit_permutation&#34;: [[[&#34;q&#34;, [0]], [&#34;q&#34;, [0]]], [[&#34;q&#34;, [1]], [&#34;q&#34;, [1]]], [[&#34;q&#34;, [2]], [&#34;q&#34;, [2]]], [[&#34;q&#34;, [3]], [&#34;q&#34;, [3]]]], &#34;phase&#34;: &#34;0.0&#34;, &#34;qubits&#34;: [[&#34;q&#34;, [0]], [&#34;q&#34;, [1]], [&#34;q&#34;, [2]], [&#34;q&#34;, [3]]]}&lt;/div&gt;\n",
       "        &lt;/div&gt;\n",
       "        &lt;circuit-display-container\n",
       "                :circuit-element-str=&#34;&#39;#circuit-json-to-display&#39;&#34;\n",
       "                :init-render-options=&#34;initRenderOptions&#34;\n",
       "                view-format=&#34;None&#34;\n",
       "        &gt;&lt;/circuit-display-container&gt;\n",
       "    &lt;/div&gt;\n",
       "    &lt;script type=&#34;application/javascript&#34;&gt;\n",
       "      const circuitRendererUid = &#34;13b76f17-fab2-498b-8f2f-209b65545e69&#34;;\n",
       "      const displayOptions = JSON.parse(&#39;{}&#39;);\n",
       "\n",
       "      // Script to initialise the circuit renderer app\n",
       "\n",
       "const { createApp } = Vue;\n",
       "const circuitDisplayContainer = window[&#34;pytket-circuit-renderer&#34;].default;\n",
       "// Init variables to be shared between circuit display instances\n",
       "if (typeof window.pytketCircuitDisplays === &#34;undefined&#34;) {\n",
       "    window.pytketCircuitDisplays = {};\n",
       "}\n",
       "// Create the root Vue component\n",
       "const app = createApp({\n",
       "    delimiters: [&#39;[[#&#39;, &#39;#]]&#39;],\n",
       "    components: { circuitDisplayContainer },\n",
       "    data () {\n",
       "      return {\n",
       "        initRenderOptions: displayOptions,\n",
       "      }\n",
       "    }\n",
       "})\n",
       "app.config.unwrapInjectedRef = true;\n",
       "app.mount(&#34;#circuit-display-vue-container-&#34;+circuitRendererUid);\n",
       "window.pytketCircuitDisplays[circuitRendererUid] = app;\n",
       "    &lt;/script&gt;\n",
       "\n",
       "\n",
       "\n",
       "&lt;/body&gt;\n",
       "&lt;/html&gt;\n",
       "\"\n",
       "            width=\"100%\" height=\"100%\"\n",
       "            style=\"border: none; outline: none; overflow: auto\"></iframe>\n",
       "</div>\n",
       "\n"
      ],
      "text/plain": [
       "<IPython.core.display.HTML object>"
      ]
     },
     "metadata": {},
     "output_type": "display_data"
    }
   ],
   "source": [
    "from pytket.passes import DecomposeBoxes\n",
    "\n",
    "xxz_circ_4 = build_XXZ_hamiltonian_circ(4, delta, t)\n",
    "DecomposeBoxes().apply(xxz_circ_4)\n",
    "draw(xxz_circ_4)"
   ]
  },
  {
   "cell_type": "markdown",
   "metadata": {},
   "source": [
    "## Overview:\n",
    "\n",
    "In the following there are two sections which can be explored independently from each other. The first is about non-commuting Hamiltonians and Trotterization. The second one is about some concrete physical examples of time evolution using quantum circuits for the XXZ Heisenberg model.\n",
    "\n",
    "Each section contains a list of tasks which you can work on. However, you can also get creative and explore other related directions or tasks which might be interesting. After working on those paths, you can of course also try to come up with interesting ideas how to combine concepts from both sections."
   ]
  },
  {
   "cell_type": "code",
   "execution_count": null,
   "metadata": {},
   "outputs": [],
   "source": []
  },
  {
   "cell_type": "markdown",
   "metadata": {},
   "source": [
    "## Section 1: Non-commuting Hamiltonians and Trotterization\n",
    "\n",
    "In this section we investigate the dependence of the Trotter error on the Trotter step size."
   ]
  },
  {
   "cell_type": "markdown",
   "metadata": {},
   "source": [
    "The XXZ Heisenberg model above has only commuting terms. In general this is not the case, and need to be more careful in implementing the time evolution under $H$.\n",
    "\n",
    "Let $A$ and $B$ be square matrices. As discussed above\n",
    "$$\n",
    "[A, B] = AB-BA = 0 \\implies e^{-i(A + B)} = e^{-iA} e^{-iB}\n",
    "$$\n",
    "\n",
    "However if the matrices $A$ and $B$ do not commute then we have an error term to deal with\n",
    "$$\n",
    "||A|| < \\delta\\,, \\quad ||B|| < \\delta \\implies e^{-i(A + B)} = e^{-iA} e^{-iB} + \\mathcal{O}(\\delta^2)\n",
    "$$\n",
    "Here $||.||$ denotes the spectral norm.\n",
    "$$\n",
    "|| A || := \\max_{|\\psi\\rangle \\neq 0} \\frac{||A|\\psi\\rangle ||}{|| \\, |\\psi\\rangle||}\n",
    "$$\n",
    "\n",
    "Now suppose we have a Hamiltonian $H$ expressed as a sum of Hermitian matrices $H_k$.\n",
    "$$\n",
    "H = \\sum_{i=1}^m H_i\n",
    "$$\n",
    "Here, the operators $H_k$ could be the weighted Pauli strings above $H_i = \\alpha_i P_i$.\n",
    "In generalt $[H_i, H_j] \\neq 0$. In this case\n",
    "$$\n",
    "e^{-i H_1 t}e^{-i H_2 t}... e^{-i H_m t} \\neq e^{-i( H_1 + ... H_m) t} \\,.\n",
    "$$\n",
    "However, one can show that for a given target accuracy $\\epsilon$, we can find a (probably large) $p \\in \\mathbb{N}$, such that the distance between both time evolution operators is small,\n",
    "$$\n",
    "|| \\big( e^{-i H_1 t/p}e^{-i H_2 t /p}... e^{-i H_m t/p}\\big)^p - e^{-i( H_1 + ... H_m) t} || \\leq \\epsilon \\,.\n",
    "$$\n",
    "\n",
    "If the $H_i$ are, as assumed above, Pauli strings, we can implement $e^{-i H_1 t/p}e^{-i H_2 t /p}... e^{-i H_m t/p}$ as a quantum circuit and concatenate it $p$ times to obtain a $\\epsilon$-close approximation of the target evolution $e^{-i( H_1 + ... H_m) t}$. The factorization formula $e^{-i H_1 t/p}e^{-i H_2 t /p}... e^{-i H_m t/p}$ is called \"first-order Trotterization\" of $H$. There are higher order Trotterization formulas which are more accurate but also more difficult to implement. We will discuss a few of them below."
   ]
  },
  {
   "cell_type": "markdown",
   "metadata": {},
   "source": [
    "### Task 1: Implement the transverse field Ising model."
   ]
  },
  {
   "cell_type": "markdown",
   "metadata": {},
   "source": [
    "The transverse field Ising model is given by\n",
    "$$\n",
    "H_\\mathrm{Ising} = - J \\sum_{i=1}^{N-1} Z^{(i)} Z^{(i+1)} + g\\sum_{i=1}^N X^{(i)}\n",
    "$$\n",
    "with interaction strength $J$ and transverse field strength $g$. We can set $g=1$ and $J=1.2$ in the following, but other parameter values can be explored."
   ]
  },
  {
   "cell_type": "code",
   "execution_count": 369,
   "metadata": {},
   "outputs": [],
   "source": [
    "from pytket.utils import QubitPauliOperator\n",
    "from pytket.pauli import Pauli, QubitPauliString\n",
    "import networkx as nx\n",
    "from pytket.circuit import Qubit\n",
    "\n",
    "def get_transverse_field_hamiltonian(n_qubits: int, J: float, g: float) -> QubitPauliOperator:\n",
    "    sites = nx.path_graph(n_qubits)\n",
    "    qpo_dict = {}\n",
    "    for e in sites.edges:\n",
    "        zz_term = QubitPauliString([Qubit(e[0]), Qubit(e[1])], [Pauli.Z, Pauli.Z])\n",
    "        qpo_dict[zz_term] = -J\n",
    "    for i in range(n_qubits):\n",
    "        x_term = QubitPauliString([Qubit(i)], [Pauli.X])\n",
    "        qpo_dict[x_term] = g\n",
    "    \n",
    "    return QubitPauliOperator(qpo_dict)"
   ]
  },
  {
   "cell_type": "code",
   "execution_count": 370,
   "metadata": {},
   "outputs": [
    {
     "data": {
      "text/plain": [
       "{(Zq[0], Zq[1]): -1.20000000000000,\n",
       " (Zq[1], Zq[2]): -1.20000000000000,\n",
       " (Zq[2], Zq[3]): -1.20000000000000,\n",
       " (Zq[3], Zq[4]): -1.20000000000000,\n",
       " (Xq[0]): 1,\n",
       " (Xq[1]): 1,\n",
       " (Xq[2]): 1,\n",
       " (Xq[3]): 1,\n",
       " (Xq[4]): 1}"
      ]
     },
     "execution_count": 370,
     "metadata": {},
     "output_type": "execute_result"
    }
   ],
   "source": [
    "transv_ham = get_transverse_field_hamiltonian(5, 1.2, 1)\n",
    "transv_ham._dict"
   ]
  },
  {
   "cell_type": "markdown",
   "metadata": {},
   "source": [
    "### Task 2: Trotter error scaling and higher order Trotterization formulas\n",
    "\n",
    "- Implement first and second order Trotterizations\n",
    "- You can also implement even higher order Trotterizations. Higher-order Trotterization formulas are given e.g. in Eq. (13) and (14) in [3].\n",
    "- Implement the classical simulation of the quantum evolution using e.g. `numpy`. This you will need to quantify the Trotter error. You get the Trotter error by taking the distance between the state vector prepared with the Trotterized circuit, and the state vector prepared with the numerically exact classical numpy method.\n",
    "- Plot the Trotter errors vs number of Trotter steps in a double-log plot\n",
    "\n",
    "\n",
    "Hint:\n",
    "- For example, for two non-commuting operators $A,B$, the second order Trotterization reads [4]\n",
    "$$\n",
    "e^{-i t (A + B)} = e^{-i t A / 2} e^{-i t B} e^{-it A / 2}\n",
    "$$\n",
    "- Use an empty circuit to initialize the time evolution circuit. This means we are starting with the state $\\ket{\\psi} = \\ket{0}^{\\otimes N}$, where all the qubits are in the zero state.\n",
    "- You can also explore other initial states.\n",
    "- To get the state vector of the quantum circuit, you may want to use the backend `AerStateBackend()` (`from pytket.extensions.qiskit import AerStateBackend`).\n",
    "- You can get the matrix representation of a `QubitPauliOperator` with `to_sparse_matrix()` as described above.\n",
    "- The quantum circuit is initialized with the all zero state $\\ket{\\psi} = \\ket{0}^{\\otimes N}$. The corresponding initial vector for the classical numpy simulation is $v = (1, 0, \\dots , 0)\\in \\mathbb{R}^{2^n}$."
   ]
  },
  {
   "cell_type": "markdown",
   "metadata": {},
   "source": [
    "E.g. use.."
   ]
  },
  {
   "cell_type": "code",
   "execution_count": 371,
   "metadata": {},
   "outputs": [],
   "source": [
    "t = 1\n",
    "n_trotter_steps = list(range(1, 202, 20))"
   ]
  },
  {
   "cell_type": "code",
   "execution_count": 372,
   "metadata": {},
   "outputs": [],
   "source": [
    "def get_transverse_order_1_trotterisation_circuit(n_qubits: int, J: float, g: float, p: int, t: float):\n",
    "    transv_1_circ = Circuit(n_qubits)\n",
    "    for i in range(p):\n",
    "        for k in range(n_qubits - 1):\n",
    "            # need t = alpha * pi/2 => alpha = 2t/pi\n",
    "            transv_1_circ.ZZPhase(-J * 2*t/math.pi/p, k, k + 1)\n",
    "        for k in range(n_qubits):\n",
    "            transv_1_circ.Rx(g * 2*t/math.pi/p, k)\n",
    "    return transv_1_circ"
   ]
  },
  {
   "cell_type": "code",
   "execution_count": 373,
   "metadata": {},
   "outputs": [],
   "source": [
    "def get_transverse_order_2_trotterisation_circuit(n_qubits: int, J: float, g: float, p: int, t: float):\n",
    "    transv_2_circ = Circuit(n_qubits)\n",
    "    for i in range(p):\n",
    "        for k in range(n_qubits - 1):\n",
    "            # need t = alpha * pi/2 => alpha = 2t/pi\n",
    "            transv_2_circ.ZZPhase(-J * 2*t/math.pi/p/2, k, k + 1)\n",
    "        for k in range(n_qubits):\n",
    "            transv_2_circ.Rx(g * 2*t/math.pi/p, k)\n",
    "        for k in range(n_qubits - 1):\n",
    "            # need t = alpha * pi/2 => alpha = 2t/pi\n",
    "            transv_2_circ.ZZPhase(-J * 2*t/math.pi/p/2, k, k + 1)\n",
    "    return transv_2_circ"
   ]
  },
  {
   "cell_type": "code",
   "execution_count": 90,
   "metadata": {},
   "outputs": [
    {
     "data": {
      "text/plain": [
       "False"
      ]
     },
     "execution_count": 90,
     "metadata": {},
     "output_type": "execute_result"
    }
   ],
   "source": [
    "transv_1_circ_test = get_transverse_order_1_trotterisation_circuit(5, 1.2, 1, 201, 1)\n",
    "DecomposeBoxes().apply(transv_1_circ_test)\n",
    "#draw(transv_1_circ_test)"
   ]
  },
  {
   "cell_type": "code",
   "execution_count": 374,
   "metadata": {},
   "outputs": [],
   "source": [
    "import numpy as np\n",
    "from scipy.sparse import linalg\n",
    "def gold_standard_simulation(n_qubits: int, ham: QubitPauliOperator, t: float):\n",
    "    d = 2 ** n_qubits\n",
    "    v = np.zeros(d)\n",
    "    v[0] = 1\n",
    "    H = ham.to_sparse_matrix()\n",
    "    U = linalg.expm(-1j * t * H)\n",
    "    return U @ v"
   ]
  },
  {
   "cell_type": "code",
   "execution_count": 375,
   "metadata": {},
   "outputs": [
    {
     "name": "stdout",
     "output_type": "stream",
     "text": [
      "[ 4.83733669e-01-1.28949272e-01j -3.34631292e-01+2.24665916e-02j\n",
      " -5.53327556e-02-2.92807413e-02j  2.03552009e-01+1.54588669e-01j\n",
      " -1.18983662e-01+7.49245507e-02j  2.86752412e-02+4.58775277e-03j\n",
      "  3.16125500e-02-8.78306080e-02j -4.75522256e-02-2.14761334e-01j\n",
      " -5.53327556e-02-2.92807413e-02j  2.57379325e-02+4.58775277e-03j\n",
      "  2.86752412e-02-5.47522097e-17j  2.50815416e-02-4.67974045e-02j\n",
      "  3.16125500e-02-8.78306080e-02j  2.50815416e-02+5.74078875e-02j\n",
      " -7.71387299e-02+5.64071896e-02j -7.62052143e-03+1.12615498e-01j\n",
      " -3.34631292e-01+2.24665916e-02j  2.07415364e-01+3.36978595e-02j\n",
      "  2.57379325e-02+4.58775277e-03j -1.29235133e-01-1.51002697e-01j\n",
      "  2.86752412e-02+4.58775277e-03j -4.16333634e-17-4.67974045e-02j\n",
      "  2.50815416e-02+5.74078875e-02j  4.28372061e-02+9.08770883e-02j\n",
      "  2.03552009e-01+1.54588669e-01j -1.29235133e-01-1.51002697e-01j\n",
      "  2.50815416e-02-4.67974045e-02j  3.98998974e-02+1.03138265e-01j\n",
      " -4.75522256e-02-2.14761334e-01j  4.28372061e-02+9.08770883e-02j\n",
      " -7.62052143e-03+1.12615498e-01j  1.81780680e-01+9.56631869e-02j]\n"
     ]
    }
   ],
   "source": [
    "exact_state = gold_standard_simulation(5, transv_ham, t)\n",
    "print(exact_state)"
   ]
  },
  {
   "cell_type": "code",
   "execution_count": 70,
   "metadata": {},
   "outputs": [],
   "source": [
    "import qnexus as qnx\n",
    "\n",
    "# ADD YOUR OWN PROJECT NAME HERE\n",
    "project = qnx.projects.get_or_create(name=\"iquhack\")\n",
    "qnx.context.set_active_project(project)"
   ]
  },
  {
   "cell_type": "code",
   "execution_count": 318,
   "metadata": {},
   "outputs": [],
   "source": [
    "import datetime\n",
    "jobname_suffix = datetime.datetime.now().strftime(\"%Y_%m_%d-%H-%M-%S\")"
   ]
  },
  {
   "cell_type": "code",
   "execution_count": 92,
   "metadata": {},
   "outputs": [],
   "source": [
    "h1_config = qnx.QuantinuumConfig(device_name=\"H1-Emulator\")\n",
    "\n",
    "aer_config = qnx.AerStateConfig()"
   ]
  },
  {
   "cell_type": "code",
   "execution_count": 104,
   "metadata": {},
   "outputs": [],
   "source": [
    "def get_circ_state_vector(circuit, suffix_2=\"\"):\n",
    "    ref = qnx.circuits.upload(circuit=circuit, name=f\"Trans-Circuit-{jobname_suffix}-{suffix_2}\")\n",
    "    ref_compile_job = qnx.start_compile_job(\n",
    "        circuits=[ref],\n",
    "        backend_config=aer_config,\n",
    "        optimisation_level=2,\n",
    "        name=f\"compilation-job-{jobname_suffix}-{suffix_2}\"\n",
    "    )\n",
    "    qnx.jobs.wait_for(ref_compile_job)\n",
    "    ref_compiled_circuit = qnx.jobs.results(ref_compile_job)[0].get_output()\n",
    "    compiled_circuit = ref_compiled_circuit.download_circuit()\n",
    "    print(\"compiled\")\n",
    "    #draw(compiled_circuit)\n",
    "    ref_execute_job = qnx.start_execute_job(\n",
    "        circuits=[ref_compiled_circuit],\n",
    "        n_shots=[100],\n",
    "        backend_config=aer_config,\n",
    "        name=f\"execution-job-{jobname_suffix}-{suffix_2}\"\n",
    "    )\n",
    "    qnx.jobs.wait_for(ref_execute_job)\n",
    "    ref_result = qnx.jobs.results(ref_execute_job)[0]\n",
    "    backend_result = ref_result.download_result()\n",
    "    print(\"done\")\n",
    "    return backend_result.get_state()"
   ]
  },
  {
   "cell_type": "code",
   "execution_count": 105,
   "metadata": {},
   "outputs": [
    {
     "name": "stdout",
     "output_type": "stream",
     "text": [
      "compiled\n",
      "done\n"
     ]
    }
   ],
   "source": [
    "test_sv = get_circ_state_vector(transv_1_circ_test,\"t\")"
   ]
  },
  {
   "cell_type": "code",
   "execution_count": 108,
   "metadata": {},
   "outputs": [
    {
     "name": "stdout",
     "output_type": "stream",
     "text": [
      "[ 0.48372165-0.12896597j -0.33475955+0.02047898j -0.05498073-0.02993684j\n",
      "  0.20262819+0.15579501j -0.11987338+0.0735038j   0.02859118+0.00509812j\n",
      "  0.0326598 -0.08744976j -0.04626811-0.21504072j -0.05498073-0.02993684j\n",
      "  0.02565463+0.00504552j  0.02867023+0.00068479j  0.02591601-0.04634091j\n",
      "  0.0326598 -0.08744976j  0.02404966+0.05785232j -0.07781096+0.05548285j\n",
      " -0.00829414+0.11256892j -0.33475955+0.02047898j  0.20700193+0.03616527j\n",
      "  0.02565463+0.00504552j -0.1274247 -0.15253553j  0.02859118+0.00509812j\n",
      "  0.00111747-0.04678511j  0.02404966+0.05785232j  0.04174952+0.09138421j\n",
      "  0.20262819+0.15579501j -0.1274247 -0.15253553j  0.02591601-0.04634091j\n",
      "  0.03866638+0.10360864j -0.04626811-0.21504072j  0.04174952+0.09138421j\n",
      " -0.00829414+0.11256892j  0.18177648+0.09566792j]\n",
      "0.007333714725970309\n"
     ]
    }
   ],
   "source": [
    "print(test_sv)\n",
    "print(np.linalg.norm(test_sv - exact_state))"
   ]
  },
  {
   "cell_type": "code",
   "execution_count": 319,
   "metadata": {},
   "outputs": [
    {
     "name": "stdout",
     "output_type": "stream",
     "text": [
      "step_cnt = 1\n",
      "uploading circuit\n",
      "compiled\n",
      "done\n",
      "step_cnt = 21\n",
      "uploading circuit\n",
      "compiled\n",
      "done\n",
      "step_cnt = 41\n",
      "uploading circuit\n",
      "compiled\n",
      "done\n",
      "step_cnt = 61\n",
      "uploading circuit\n",
      "compiled\n",
      "done\n",
      "step_cnt = 81\n",
      "uploading circuit\n",
      "compiled\n",
      "done\n",
      "step_cnt = 101\n",
      "uploading circuit\n",
      "compiled\n",
      "done\n",
      "step_cnt = 121\n",
      "uploading circuit\n",
      "compiled\n",
      "done\n",
      "step_cnt = 141\n",
      "uploading circuit\n",
      "compiled\n"
     ]
    },
    {
     "ename": "KeyboardInterrupt",
     "evalue": "",
     "output_type": "error",
     "traceback": [
      "\u001b[0;31m---------------------------------------------------------------------------\u001b[0m",
      "\u001b[0;31mKeyboardInterrupt\u001b[0m                         Traceback (most recent call last)",
      "Cell \u001b[0;32mIn[319], line 8\u001b[0m\n\u001b[1;32m      6\u001b[0m lcl_circ \u001b[38;5;241m=\u001b[39m get_transverse_order_1_trotterisation_circuit(\u001b[38;5;241m5\u001b[39m, \u001b[38;5;241m1.2\u001b[39m, \u001b[38;5;241m1\u001b[39m, step_cnt, t)\n\u001b[1;32m      7\u001b[0m \u001b[38;5;28mprint\u001b[39m(\u001b[38;5;124m\"\u001b[39m\u001b[38;5;124muploading circuit\u001b[39m\u001b[38;5;124m\"\u001b[39m)\n\u001b[0;32m----> 8\u001b[0m sv \u001b[38;5;241m=\u001b[39m \u001b[43mget_circ_state_vector\u001b[49m\u001b[43m(\u001b[49m\u001b[43mlcl_circ\u001b[49m\u001b[43m,\u001b[49m\u001b[43m \u001b[49m\u001b[38;5;124;43mf\u001b[39;49m\u001b[38;5;124;43m\"\u001b[39;49m\u001b[38;5;124;43ms\u001b[39;49m\u001b[38;5;132;43;01m{\u001b[39;49;00m\u001b[43mstep_cnt\u001b[49m\u001b[38;5;132;43;01m}\u001b[39;49;00m\u001b[38;5;124;43m\"\u001b[39;49m\u001b[43m)\u001b[49m\n\u001b[1;32m      9\u001b[0m \u001b[38;5;66;03m#x_dat.append(step_cnt)\u001b[39;00m\n\u001b[1;32m     10\u001b[0m y_dat\u001b[38;5;241m.\u001b[39mappend(np\u001b[38;5;241m.\u001b[39mlinalg\u001b[38;5;241m.\u001b[39mnorm(sv \u001b[38;5;241m-\u001b[39m exact_state))\n",
      "Cell \u001b[0;32mIn[104], line 20\u001b[0m, in \u001b[0;36mget_circ_state_vector\u001b[0;34m(circuit, suffix_2)\u001b[0m\n\u001b[1;32m     13\u001b[0m \u001b[38;5;66;03m#draw(compiled_circuit)\u001b[39;00m\n\u001b[1;32m     14\u001b[0m ref_execute_job \u001b[38;5;241m=\u001b[39m qnx\u001b[38;5;241m.\u001b[39mstart_execute_job(\n\u001b[1;32m     15\u001b[0m     circuits\u001b[38;5;241m=\u001b[39m[ref_compiled_circuit],\n\u001b[1;32m     16\u001b[0m     n_shots\u001b[38;5;241m=\u001b[39m[\u001b[38;5;241m100\u001b[39m],\n\u001b[1;32m     17\u001b[0m     backend_config\u001b[38;5;241m=\u001b[39maer_config,\n\u001b[1;32m     18\u001b[0m     name\u001b[38;5;241m=\u001b[39m\u001b[38;5;124mf\u001b[39m\u001b[38;5;124m\"\u001b[39m\u001b[38;5;124mexecution-job-\u001b[39m\u001b[38;5;132;01m{\u001b[39;00mjobname_suffix\u001b[38;5;132;01m}\u001b[39;00m\u001b[38;5;124m-\u001b[39m\u001b[38;5;132;01m{\u001b[39;00msuffix_2\u001b[38;5;132;01m}\u001b[39;00m\u001b[38;5;124m\"\u001b[39m\n\u001b[1;32m     19\u001b[0m )\n\u001b[0;32m---> 20\u001b[0m \u001b[43mqnx\u001b[49m\u001b[38;5;241;43m.\u001b[39;49m\u001b[43mjobs\u001b[49m\u001b[38;5;241;43m.\u001b[39;49m\u001b[43mwait_for\u001b[49m\u001b[43m(\u001b[49m\u001b[43mref_execute_job\u001b[49m\u001b[43m)\u001b[49m\n\u001b[1;32m     21\u001b[0m ref_result \u001b[38;5;241m=\u001b[39m qnx\u001b[38;5;241m.\u001b[39mjobs\u001b[38;5;241m.\u001b[39mresults(ref_execute_job)[\u001b[38;5;241m0\u001b[39m]\n\u001b[1;32m     22\u001b[0m backend_result \u001b[38;5;241m=\u001b[39m ref_result\u001b[38;5;241m.\u001b[39mdownload_result()\n",
      "File \u001b[0;32m/opt/conda/lib/python3.10/site-packages/qnexus/client/jobs/__init__.py:285\u001b[0m, in \u001b[0;36mwait_for\u001b[0;34m(job, wait_for_status, timeout)\u001b[0m\n\u001b[1;32m    279\u001b[0m \u001b[38;5;28;01mdef\u001b[39;00m \u001b[38;5;21mwait_for\u001b[39m(\n\u001b[1;32m    280\u001b[0m     job: JobRef,\n\u001b[1;32m    281\u001b[0m     wait_for_status: StatusEnum \u001b[38;5;241m=\u001b[39m StatusEnum\u001b[38;5;241m.\u001b[39mCOMPLETED,\n\u001b[1;32m    282\u001b[0m     timeout: \u001b[38;5;28mfloat\u001b[39m \u001b[38;5;241m|\u001b[39m \u001b[38;5;28;01mNone\u001b[39;00m \u001b[38;5;241m=\u001b[39m \u001b[38;5;241m300.0\u001b[39m,\n\u001b[1;32m    283\u001b[0m ) \u001b[38;5;241m-\u001b[39m\u001b[38;5;241m>\u001b[39m JobStatus:\n\u001b[1;32m    284\u001b[0m \u001b[38;5;250m    \u001b[39m\u001b[38;5;124;03m\"\"\"Check job status until the job is complete (or a specified status).\"\"\"\u001b[39;00m\n\u001b[0;32m--> 285\u001b[0m     job_status \u001b[38;5;241m=\u001b[39m \u001b[43masyncio\u001b[49m\u001b[38;5;241;43m.\u001b[39;49m\u001b[43mrun\u001b[49m\u001b[43m(\u001b[49m\n\u001b[1;32m    286\u001b[0m \u001b[43m        \u001b[49m\u001b[43masyncio\u001b[49m\u001b[38;5;241;43m.\u001b[39;49m\u001b[43mwait_for\u001b[49m\u001b[43m(\u001b[49m\n\u001b[1;32m    287\u001b[0m \u001b[43m            \u001b[49m\u001b[43mlisten_job_status\u001b[49m\u001b[43m(\u001b[49m\u001b[43mjob\u001b[49m\u001b[38;5;241;43m=\u001b[39;49m\u001b[43mjob\u001b[49m\u001b[43m,\u001b[49m\u001b[43m \u001b[49m\u001b[43mwait_for_status\u001b[49m\u001b[38;5;241;43m=\u001b[39;49m\u001b[43mwait_for_status\u001b[49m\u001b[43m)\u001b[49m\u001b[43m,\u001b[49m\n\u001b[1;32m    288\u001b[0m \u001b[43m            \u001b[49m\u001b[43mtimeout\u001b[49m\u001b[38;5;241;43m=\u001b[39;49m\u001b[43mtimeout\u001b[49m\u001b[43m,\u001b[49m\n\u001b[1;32m    289\u001b[0m \u001b[43m        \u001b[49m\u001b[43m)\u001b[49m\n\u001b[1;32m    290\u001b[0m \u001b[43m    \u001b[49m\u001b[43m)\u001b[49m\n\u001b[1;32m    292\u001b[0m     \u001b[38;5;28;01mif\u001b[39;00m job_status\u001b[38;5;241m.\u001b[39mstatus \u001b[38;5;241m==\u001b[39m StatusEnum\u001b[38;5;241m.\u001b[39mERROR:\n\u001b[1;32m    293\u001b[0m         \u001b[38;5;28;01mraise\u001b[39;00m qnx_exc\u001b[38;5;241m.\u001b[39mJobError(\u001b[38;5;124mf\u001b[39m\u001b[38;5;124m\"\u001b[39m\u001b[38;5;124mJob errored with detail: \u001b[39m\u001b[38;5;132;01m{\u001b[39;00mjob_status\u001b[38;5;241m.\u001b[39merror_detail\u001b[38;5;132;01m}\u001b[39;00m\u001b[38;5;124m\"\u001b[39m)\n",
      "File \u001b[0;32m/opt/conda/lib/python3.10/site-packages/nest_asyncio.py:30\u001b[0m, in \u001b[0;36m_patch_asyncio.<locals>.run\u001b[0;34m(main, debug)\u001b[0m\n\u001b[1;32m     28\u001b[0m task \u001b[38;5;241m=\u001b[39m asyncio\u001b[38;5;241m.\u001b[39mensure_future(main)\n\u001b[1;32m     29\u001b[0m \u001b[38;5;28;01mtry\u001b[39;00m:\n\u001b[0;32m---> 30\u001b[0m     \u001b[38;5;28;01mreturn\u001b[39;00m \u001b[43mloop\u001b[49m\u001b[38;5;241;43m.\u001b[39;49m\u001b[43mrun_until_complete\u001b[49m\u001b[43m(\u001b[49m\u001b[43mtask\u001b[49m\u001b[43m)\u001b[49m\n\u001b[1;32m     31\u001b[0m \u001b[38;5;28;01mfinally\u001b[39;00m:\n\u001b[1;32m     32\u001b[0m     \u001b[38;5;28;01mif\u001b[39;00m \u001b[38;5;129;01mnot\u001b[39;00m task\u001b[38;5;241m.\u001b[39mdone():\n",
      "File \u001b[0;32m/opt/conda/lib/python3.10/site-packages/nest_asyncio.py:92\u001b[0m, in \u001b[0;36m_patch_loop.<locals>.run_until_complete\u001b[0;34m(self, future)\u001b[0m\n\u001b[1;32m     90\u001b[0m     f\u001b[38;5;241m.\u001b[39m_log_destroy_pending \u001b[38;5;241m=\u001b[39m \u001b[38;5;28;01mFalse\u001b[39;00m\n\u001b[1;32m     91\u001b[0m \u001b[38;5;28;01mwhile\u001b[39;00m \u001b[38;5;129;01mnot\u001b[39;00m f\u001b[38;5;241m.\u001b[39mdone():\n\u001b[0;32m---> 92\u001b[0m     \u001b[38;5;28;43mself\u001b[39;49m\u001b[38;5;241;43m.\u001b[39;49m\u001b[43m_run_once\u001b[49m\u001b[43m(\u001b[49m\u001b[43m)\u001b[49m\n\u001b[1;32m     93\u001b[0m     \u001b[38;5;28;01mif\u001b[39;00m \u001b[38;5;28mself\u001b[39m\u001b[38;5;241m.\u001b[39m_stopping:\n\u001b[1;32m     94\u001b[0m         \u001b[38;5;28;01mbreak\u001b[39;00m\n",
      "File \u001b[0;32m/opt/conda/lib/python3.10/site-packages/nest_asyncio.py:115\u001b[0m, in \u001b[0;36m_patch_loop.<locals>._run_once\u001b[0;34m(self)\u001b[0m\n\u001b[1;32m    108\u001b[0m     heappop(scheduled)\n\u001b[1;32m    110\u001b[0m timeout \u001b[38;5;241m=\u001b[39m (\n\u001b[1;32m    111\u001b[0m     \u001b[38;5;241m0\u001b[39m \u001b[38;5;28;01mif\u001b[39;00m ready \u001b[38;5;129;01mor\u001b[39;00m \u001b[38;5;28mself\u001b[39m\u001b[38;5;241m.\u001b[39m_stopping\n\u001b[1;32m    112\u001b[0m     \u001b[38;5;28;01melse\u001b[39;00m \u001b[38;5;28mmin\u001b[39m(\u001b[38;5;28mmax\u001b[39m(\n\u001b[1;32m    113\u001b[0m         scheduled[\u001b[38;5;241m0\u001b[39m]\u001b[38;5;241m.\u001b[39m_when \u001b[38;5;241m-\u001b[39m \u001b[38;5;28mself\u001b[39m\u001b[38;5;241m.\u001b[39mtime(), \u001b[38;5;241m0\u001b[39m), \u001b[38;5;241m86400\u001b[39m) \u001b[38;5;28;01mif\u001b[39;00m scheduled\n\u001b[1;32m    114\u001b[0m     \u001b[38;5;28;01melse\u001b[39;00m \u001b[38;5;28;01mNone\u001b[39;00m)\n\u001b[0;32m--> 115\u001b[0m event_list \u001b[38;5;241m=\u001b[39m \u001b[38;5;28;43mself\u001b[39;49m\u001b[38;5;241;43m.\u001b[39;49m\u001b[43m_selector\u001b[49m\u001b[38;5;241;43m.\u001b[39;49m\u001b[43mselect\u001b[49m\u001b[43m(\u001b[49m\u001b[43mtimeout\u001b[49m\u001b[43m)\u001b[49m\n\u001b[1;32m    116\u001b[0m \u001b[38;5;28mself\u001b[39m\u001b[38;5;241m.\u001b[39m_process_events(event_list)\n\u001b[1;32m    118\u001b[0m end_time \u001b[38;5;241m=\u001b[39m \u001b[38;5;28mself\u001b[39m\u001b[38;5;241m.\u001b[39mtime() \u001b[38;5;241m+\u001b[39m \u001b[38;5;28mself\u001b[39m\u001b[38;5;241m.\u001b[39m_clock_resolution\n",
      "File \u001b[0;32m/opt/conda/lib/python3.10/selectors.py:469\u001b[0m, in \u001b[0;36mEpollSelector.select\u001b[0;34m(self, timeout)\u001b[0m\n\u001b[1;32m    467\u001b[0m ready \u001b[38;5;241m=\u001b[39m []\n\u001b[1;32m    468\u001b[0m \u001b[38;5;28;01mtry\u001b[39;00m:\n\u001b[0;32m--> 469\u001b[0m     fd_event_list \u001b[38;5;241m=\u001b[39m \u001b[38;5;28;43mself\u001b[39;49m\u001b[38;5;241;43m.\u001b[39;49m\u001b[43m_selector\u001b[49m\u001b[38;5;241;43m.\u001b[39;49m\u001b[43mpoll\u001b[49m\u001b[43m(\u001b[49m\u001b[43mtimeout\u001b[49m\u001b[43m,\u001b[49m\u001b[43m \u001b[49m\u001b[43mmax_ev\u001b[49m\u001b[43m)\u001b[49m\n\u001b[1;32m    470\u001b[0m \u001b[38;5;28;01mexcept\u001b[39;00m \u001b[38;5;167;01mInterruptedError\u001b[39;00m:\n\u001b[1;32m    471\u001b[0m     \u001b[38;5;28;01mreturn\u001b[39;00m ready\n",
      "\u001b[0;31mKeyboardInterrupt\u001b[0m: "
     ]
    }
   ],
   "source": [
    "x_dat = n_trotter_steps[:7]\n",
    "y_dat = []\n",
    "ymod_dat = []\n",
    "for step_cnt in n_trotter_steps:\n",
    "    print(f\"step_cnt = {step_cnt}\")\n",
    "    lcl_circ = get_transverse_order_1_trotterisation_circuit(5, 1.2, 1, step_cnt, t)\n",
    "    print(\"uploading circuit\")\n",
    "    sv = get_circ_state_vector(lcl_circ, f\"s{step_cnt}\")\n",
    "    #x_dat.append(step_cnt)\n",
    "    y_dat.append(np.linalg.norm(sv - exact_state))\n",
    "    svv = np.abs(sv)**2\n",
    "    esv = np.abs(exact_state)**2\n",
    "    ymod_dat.append(get_error(svv, esv))"
   ]
  },
  {
   "cell_type": "code",
   "execution_count": 311,
   "metadata": {},
   "outputs": [
    {
     "name": "stdout",
     "output_type": "stream",
     "text": [
      "step_cnt = 1\n",
      "uploading circuit\n",
      "compiled\n",
      "done\n",
      "step_cnt = 21\n",
      "uploading circuit\n",
      "compiled\n",
      "done\n",
      "step_cnt = 41\n",
      "uploading circuit\n",
      "compiled\n",
      "done\n",
      "step_cnt = 61\n",
      "uploading circuit\n",
      "compiled\n",
      "done\n",
      "step_cnt = 81\n",
      "uploading circuit\n",
      "compiled\n",
      "done\n",
      "step_cnt = 101\n",
      "uploading circuit\n",
      "compiled\n",
      "done\n",
      "step_cnt = 121\n",
      "uploading circuit\n",
      "compiled\n",
      "done\n"
     ]
    }
   ],
   "source": [
    "x_dat = n_trotter_steps[:7]\n",
    "y2_dat = []\n",
    "y2mod_dat = []\n",
    "for step_cnt in x_dat:\n",
    "    print(f\"step_cnt = {step_cnt}\")\n",
    "    lcl_circ = get_transverse_order_2_trotterisation_circuit(5, 1.2, 1, step_cnt, t)\n",
    "    print(\"uploading circuit\")\n",
    "    sv = get_circ_state_vector(lcl_circ, f\"o2-s{step_cnt}\")\n",
    "    y2_dat.append(np.linalg.norm(sv - exact_state))\n",
    "    svv = np.abs(sv)**2\n",
    "    esv = np.abs(exact_state)**2\n",
    "    y2mod_dat.append(get_error(svv, esv))"
   ]
  },
  {
   "cell_type": "code",
   "execution_count": 117,
   "metadata": {},
   "outputs": [
    {
     "data": {
      "image/png": "[encoded data removed]",
      "text/plain": [
       "<Figure size 640x480 with 1 Axes>"
      ]
     },
     "metadata": {},
     "output_type": "display_data"
    }
   ],
   "source": [
    "import matplotlib.pyplot as plt\n",
    "\n",
    "plt.loglog(x_dat, y_dat, label=\"1st order\")\n",
    "plt.loglog(x_dat, y2_dat, label=\"2nd order\")\n",
    "plt.title(\"1st and 2nd order Trotter Errors for 5 Qubit Transverse Ising Model over Trotterisation Steps\")\n",
    "plt.legend()\n",
    "plt.show()"
   ]
  },
  {
   "cell_type": "markdown",
   "metadata": {},
   "source": [
    "### Task 3: Do the same for the XXZ model\n",
    "\n",
    "What would you expect. Why is there no Trotter error?"
   ]
  },
  {
   "cell_type": "markdown",
   "metadata": {},
   "source": [
    "# Response:\n",
    "\n",
    "We expect no Trotter error as the matrices in the XXZ model commute."
   ]
  },
  {
   "cell_type": "code",
   "execution_count": 125,
   "metadata": {},
   "outputs": [
    {
     "name": "stdout",
     "output_type": "stream",
     "text": [
      "compiled\n",
      "done\n",
      "Trotter Error for XXZ with p = 1: 5.1285998972634295e-15\n"
     ]
    }
   ],
   "source": [
    "exact_state_xxz = gold_standard_simulation(5, xxz_ham, t)\n",
    "xxz_circ_5 = build_XXZ_hamiltonian_circ(5, Delta_ZZ, t)\n",
    "xxz_trotter_sv = get_circ_state_vector(xxz_circ_5)\n",
    "print(f\"Trotter Error for XXZ with p = 1: {np.linalg.norm(xxz_trotter_sv-exact_state_xxz)}\")"
   ]
  },
  {
   "cell_type": "markdown",
   "metadata": {},
   "source": [
    "### Task 4: Influence of noise\n",
    "\n",
    "As a next step, we study the influence of noise. Using Quantinuum noise models, we can simulate the circuit under approximately realistic conditions. We focus on the transverse field Ising model in the following.\n",
    "\n",
    "In general, there will be a trade-off between Trotter error and noise. Smaller Trotter steps will reduce the Trotter error but also increase the circuit complexity, e.g. the number of two-qubit gates. This will generally increase errors coming from the noisy hardware.\n",
    "\n",
    "Explore this trade-off by simulating the Trotter circuit for varied Trotter step sizes and noise parameters."
   ]
  },
  {
   "cell_type": "code",
   "execution_count": 376,
   "metadata": {},
   "outputs": [],
   "source": [
    "import quantinuum_schemas\n",
    "\n",
    "def simulate_noisy_trotter_circuit_data_bulk(circuit_list, noise_param, suffix_2=\"\"):\n",
    "    h1_config_noisy = qnx.QuantinuumConfig(device_name=\"H1-Emulator\", error_params=quantinuum_schemas.models.h_series_noise.UserErrorParams(scale=noise_param))\n",
    "    print(f\"run batch size {len(circuit_list)}\")\n",
    "    ref_list = []\n",
    "    for i in range(len(circuit_list)):\n",
    "        ref = qnx.circuits.upload(circuit=circuit_list[i], name=f\"Trans-Circuit-{jobname_suffix}-{suffix_2}-lind{i}\")\n",
    "        ref_list.append(ref)\n",
    "    ref_compile_job = qnx.start_compile_job(\n",
    "        circuits=ref_list,\n",
    "        backend_config=h1_config_noisy,\n",
    "        optimisation_level=2,\n",
    "        name=f\"compilation-job-{jobname_suffix}-{suffix_2}-batch\"\n",
    "    )\n",
    "    ref_compiled_circuits = []\n",
    "    qnx.jobs.wait_for(ref_compile_job)\n",
    "    print(\"waited\")\n",
    "    results_obj = qnx.jobs.results(ref_compile_job)\n",
    "    for i in range(len(circuit_list)):\n",
    "        ref_compiled_circuits.append(results_obj[i].get_output())\n",
    "    print(\"compiled\")\n",
    "    #draw(compiled_circuit)\n",
    "    ref_execute_job = qnx.start_execute_job(\n",
    "        circuits=ref_compiled_circuits,\n",
    "        n_shots=[2000] * len(ref_compiled_circuits),\n",
    "        backend_config=h1_config_noisy,\n",
    "        name=f\"execution-job-{jobname_suffix}-{suffix_2}-batch\"\n",
    "    )\n",
    "    qnx.jobs.wait_for(ref_execute_job)\n",
    "    rvvv = []\n",
    "    results_obj_2 = qnx.jobs.results(ref_execute_job)\n",
    "    for i in range(len(circuit_list)):\n",
    "        ref_result = results_obj_2[i]\n",
    "        backend_result = ref_result.download_result()\n",
    "        rvvv.append(np.array(list(backend_result.get_counts().values()))/2000.0)\n",
    "    print(\"done\")\n",
    "    return rvvv"
   ]
  },
  {
   "cell_type": "code",
   "execution_count": 377,
   "metadata": {},
   "outputs": [],
   "source": [
    "def ind_to_tuple(ind: int):\n",
    "    tup = [0, 0, 0, 0, 0]\n",
    "    for i in range(5):\n",
    "        p = 2 ** i\n",
    "        if((ind // p) % 2 == 1):\n",
    "            tup[4 - i] = 1\n",
    "    return (tup[0], tup[1], tup[2], tup[3], tup[4])"
   ]
  },
  {
   "cell_type": "code",
   "execution_count": 353,
   "metadata": {},
   "outputs": [],
   "source": [
    "# USE THIS WITH BATCH FUNCTION\n",
    "def extract_sv_from_execution_job():\n",
    "    job_ref = qnx.jobs.get(id=\"f0f516cb-8e7c-47bd-aba2-1a2fd64a5443\")\n",
    "    qnx.jobs.wait_for(job_ref)\n",
    "    rvvv = []\n",
    "    results_obj_2 = qnx.jobs.results(job_ref)\n",
    "    for i in range(36):\n",
    "        ref_result = results_obj_2[i]\n",
    "        backend_result = ref_result.download_result()\n",
    "        #print(backend_result.get_shots()[0])\n",
    "        print(backend_result.get_counts()[(1,1,1,1,1)])\n",
    "        rvvv.append(np.array([backend_result.get_counts()[ind_to_tuple(i)] for i in range(32)])/2000.0)\n",
    "        #rvvv.append(np.array(list(backend_result.get_counts().values()))/2000.0)\n",
    "    print(\"done\")\n",
    "    return rvvv"
   ]
  },
  {
   "cell_type": "code",
   "execution_count": 378,
   "metadata": {},
   "outputs": [],
   "source": [
    "exact_probabilities = np.abs(exact_state)**2"
   ]
  },
  {
   "cell_type": "code",
   "execution_count": 379,
   "metadata": {},
   "outputs": [],
   "source": [
    "def get_error(prob_distr_test, prob_distr_true):\n",
    "    # length 32 vectors, P[(0, 0, 0, 0, 0)], P[(0, 0, 0, 0, 1)], etc.\n",
    "    # sum up these in groups of 8\n",
    "    test_vec = [0, 0, 0, 0]\n",
    "    true_vec = [0, 0, 0, 0]\n",
    "    # P[x_0 = 0, x_1 = 0], P[x_0 = 0, x_1 = 1], ...\n",
    "    for i in range(32):\n",
    "        test_vec[i // 8] += prob_distr_test[i]\n",
    "        true_vec[i // 8] += prob_distr_true[i]\n",
    "    return np.linalg.norm(np.array(test_vec) - np.array(true_vec))"
   ]
  },
  {
   "cell_type": "code",
   "execution_count": 380,
   "metadata": {},
   "outputs": [],
   "source": [
    "#data_points = [] # format: [x, y1, y2]\n",
    "data_points = [[1, 0.5391246598462874, 0.523900163136355], [3, 0.03287854222547061, 0.025341355561216704], [5, 0.02773908878746341, 0.045679610263305324], [7, 0.034173177456624175, 0.02073350771595605], [9, 0.03959872787799321, 0.026176923380325092], [11, 0.036546119868030864, 0.01304648213713668], [13, 0.04652493498754424, 0.08122733096611102], [15, 0.03825557105218191, 0.04175435467908735], [17, 0.039629017623498124, 0.13630987611041426], [19, 0.0710361469257148, 0.1293455287731451], [21, 0.07610252087378631, 0.14508363193879406], [31, 0.12209172739264654, 0.28831995276372774], [41, 0.15074748274871358, 0.22795431869926452], [51, 0.1782435850711739, 0.06363963909622462], [61, 0.20110938951557011, 0.33839122172372976], [71, 0.2655919129669341, 0.38606115757165377], [81, 0.24265662407006827, 0.21199609275536246], [121, 0.30220459183542664, 0.05398804400975012], [161, 0.2917401072375905, 0.4451406689580686], [201, 0.42613537985589217, 0.48200038103040055]]"
   ]
  },
  {
   "cell_type": "code",
   "execution_count": 348,
   "metadata": {},
   "outputs": [],
   "source": [
    "data_points_tenth_fixed = [[3, 0.024061939261661936, 0.032095322502204], [7, 0.039571474834755205, 0.02502605761441978], [11, 0.04209392493405736, 0.019812289614620233], [15, 0.06583799646284247, 0.03339715930371189], [17, 0.04378913516955419, 0.1354642736884945], [21, 0.05263066848268579, 0.12199253905597679], [31, 0.12857128930767775, 0.2871614937709677], [41, 0.17040472671379503, 0.22861346211868572], [1, 0.5246850367843516, 0.5387134871132189], [25, 0.10253402226754967, 0.1753867380316907], [27, 0.09223863479910063, 0.1792071445802943], [35, 0.10859867907301425, 0.19896176944959887], [61, 0.19462759223165377, 0.3291429803533749], [81, 0.23533898805865816, 0.19751613219222267], [121, 0.2933796430446467, 0.0587247771256821], [161, 0.2866938722753255, 0.4313843840014365]]"
   ]
  },
  {
   "cell_type": "code",
   "execution_count": 323,
   "metadata": {},
   "outputs": [
    {
     "name": "stdout",
     "output_type": "stream",
     "text": [
      "[[1, 0.5391246598462874, 0.523900163136355], [3, 0.03287854222547061, 0.025341355561216704], [5, 0.02773908878746341, 0.045679610263305324], [7, 0.034173177456624175, 0.02073350771595605], [9, 0.03959872787799321, 0.026176923380325092], [11, 0.036546119868030864, 0.01304648213713668], [13, 0.04652493498754424, 0.08122733096611102], [15, 0.03825557105218191, 0.04175435467908735], [17, 0.039629017623498124, 0.13630987611041426], [19, 0.0710361469257148, 0.1293455287731451], [21, 0.07610252087378631, 0.14508363193879406], [31, 0.12209172739264654, 0.28831995276372774], [41, 0.15074748274871358, 0.22795431869926452], [51, 0.1782435850711739, 0.06363963909622462], [61, 0.20110938951557011, 0.33839122172372976], [71, 0.2655919129669341, 0.38606115757165377], [81, 0.24265662407006827, 0.21199609275536246], [121, 0.30220459183542664, 0.05398804400975012], [161, 0.2917401072375905, 0.4451406689580686], [201, 0.42613537985589217, 0.48200038103040055]]\n"
     ]
    }
   ],
   "source": [
    "print(data_points)"
   ]
  },
  {
   "cell_type": "code",
   "execution_count": 336,
   "metadata": {},
   "outputs": [
    {
     "name": "stdout",
     "output_type": "stream",
     "text": [
      "[[3, 0.024061939261661936, 0.032095322502204], [7, 0.039571474834755205, 0.02502605761441978], [11, 0.04209392493405736, 0.019812289614620233], [15, 0.06583799646284247, 0.03339715930371189], [17, 0.04378913516955419, 0.1354642736884945], [21, 0.05263066848268579, 0.12199253905597679], [31, 0.12857128930767775, 0.2871614937709677], [41, 0.17040472671379503, 0.22861346211868572], [1, 0.5246850367843516, 0.5387134871132189], [25, 0.10253402226754967, 0.1753867380316907], [27, 0.09223863479910063, 0.1792071445802943], [35, 0.10859867907301425, 0.19896176944959887], [61, 0.19462759223165377, 0.3291429803533749], [81, 0.23533898805865816, 0.19751613219222267], [121, 0.2933796430446467, 0.0587247771256821], [161, 0.2866938722753255, 0.4313843840014365]]\n"
     ]
    }
   ],
   "source": [
    "print(data_points_tenth_fixed)"
   ]
  },
  {
   "cell_type": "code",
   "execution_count": 340,
   "metadata": {},
   "outputs": [],
   "source": [
    "data_points_thousandth = []"
   ]
  },
  {
   "cell_type": "code",
   "execution_count": 342,
   "metadata": {},
   "outputs": [
    {
     "name": "stdout",
     "output_type": "stream",
     "text": [
      "[[1, 0.5220224759400317, 0.5352097572597834], [25, 0.07067314770648607, 0.17699866621101795], [27, 0.08729701200447124, 0.16934040672744533], [35, 0.12819542248498353, 0.2136427231768039], [61, 0.2026378555842223, 0.35732575861649396], [81, 0.2371081840667027, 0.194345418233554], [121, 0.29689028392696776, 0.05305759581497408], [161, 0.2896414290839988, 0.43666053740690497]]\n"
     ]
    }
   ],
   "source": [
    "print(data_points_thousandth)"
   ]
  },
  {
   "cell_type": "code",
   "execution_count": 354,
   "metadata": {},
   "outputs": [
    {
     "name": "stdout",
     "output_type": "stream",
     "text": [
      "346\n",
      "376\n",
      "69\n",
      "66\n",
      "90\n",
      "95\n",
      "81\n",
      "99\n",
      "90\n",
      "69\n",
      "84\n",
      "82\n",
      "77\n",
      "69\n",
      "77\n",
      "87\n",
      "79\n",
      "70\n",
      "90\n",
      "79\n",
      "84\n",
      "75\n",
      "82\n",
      "97\n",
      "85\n",
      "83\n",
      "73\n",
      "56\n",
      "78\n",
      "78\n",
      "81\n",
      "96\n",
      "65\n",
      "69\n",
      "64\n",
      "36\n",
      "done\n",
      "[array([0.0025, 0.0045, 0.0045, 0.0125, 0.007 , 0.012 , 0.0155, 0.0265,\n",
      "       0.007 , 0.011 , 0.012 , 0.0315, 0.0135, 0.0285, 0.029 , 0.0665,\n",
      "       0.005 , 0.0115, 0.0135, 0.0305, 0.012 , 0.0275, 0.025 , 0.078 ,\n",
      "       0.0175, 0.031 , 0.0365, 0.078 , 0.031 , 0.073 , 0.073 , 0.173 ]), array([0.    , 0.005 , 0.006 , 0.0115, 0.0065, 0.015 , 0.0115, 0.033 ,\n",
      "       0.007 , 0.0115, 0.014 , 0.023 , 0.0135, 0.027 , 0.0235, 0.079 ,\n",
      "       0.0055, 0.0095, 0.0155, 0.0325, 0.008 , 0.0345, 0.027 , 0.073 ,\n",
      "       0.0115, 0.0325, 0.03  , 0.0755, 0.0295, 0.0655, 0.075 , 0.188 ]), array([0.219 , 0.113 , 0.004 , 0.054 , 0.0365, 0.001 , 0.012 , 0.0515,\n",
      "       0.004 , 0.001 , 0.003 , 0.0035, 0.016 , 0.0055, 0.0125, 0.0135,\n",
      "       0.12  , 0.0455, 0.    , 0.0465, 0.0005, 0.002 , 0.009 , 0.0075,\n",
      "       0.066 , 0.0405, 0.0025, 0.011 , 0.038 , 0.0115, 0.015 , 0.0345]), array([0.216 , 0.1115, 0.004 , 0.067 , 0.033 , 0.0005, 0.0045, 0.051 ,\n",
      "       0.003 , 0.0005, 0.003 , 0.001 , 0.012 , 0.006 , 0.011 , 0.0115,\n",
      "       0.114 , 0.0495, 0.002 , 0.0435, 0.0025, 0.002 , 0.006 , 0.0145,\n",
      "       0.0525, 0.0405, 0.0035, 0.019 , 0.054 , 0.012 , 0.016 , 0.033 ]), array([0.246 , 0.1145, 0.003 , 0.0605, 0.0295, 0.001 , 0.0125, 0.049 ,\n",
      "       0.0075, 0.001 , 0.001 , 0.0015, 0.007 , 0.0055, 0.004 , 0.0105,\n",
      "       0.099 , 0.044 , 0.0005, 0.0455, 0.0005, 0.0025, 0.0065, 0.0065,\n",
      "       0.0585, 0.04  , 0.005 , 0.011 , 0.0505, 0.0135, 0.0175, 0.045 ]), array([0.2325, 0.1145, 0.0035, 0.06  , 0.025 , 0.002 , 0.01  , 0.0465,\n",
      "       0.005 , 0.0025, 0.0005, 0.0025, 0.01  , 0.004 , 0.01  , 0.011 ,\n",
      "       0.116 , 0.042 , 0.0005, 0.043 , 0.0015, 0.0005, 0.0055, 0.0105,\n",
      "       0.071 , 0.0415, 0.002 , 0.0095, 0.0445, 0.0105, 0.0145, 0.0475]), array([0.2505, 0.11  , 0.0055, 0.067 , 0.021 , 0.0015, 0.0105, 0.043 ,\n",
      "       0.003 , 0.0015, 0.0015, 0.0025, 0.01  , 0.0035, 0.0095, 0.013 ,\n",
      "       0.105 , 0.0395, 0.    , 0.037 , 0.001 , 0.0035, 0.003 , 0.0145,\n",
      "       0.068 , 0.045 , 0.002 , 0.0125, 0.0495, 0.012 , 0.0135, 0.0405]), array([0.252 , 0.1045, 0.0035, 0.055 , 0.0195, 0.0025, 0.011 , 0.0495,\n",
      "       0.002 , 0.002 , 0.0005, 0.003 , 0.0105, 0.004 , 0.0145, 0.01  ,\n",
      "       0.117 , 0.0315, 0.0005, 0.0445, 0.0005, 0.0015, 0.0045, 0.0085,\n",
      "       0.067 , 0.043 , 0.002 , 0.017 , 0.0445, 0.0085, 0.016 , 0.0495]), array([0.266 , 0.0975, 0.004 , 0.062 , 0.015 , 0.002 , 0.0095, 0.0515,\n",
      "       0.002 , 0.0005, 0.0015, 0.0015, 0.0085, 0.0035, 0.008 , 0.015 ,\n",
      "       0.108 , 0.0405, 0.001 , 0.0445, 0.0015, 0.0005, 0.0045, 0.013 ,\n",
      "       0.0545, 0.0455, 0.004 , 0.0165, 0.0485, 0.012 , 0.0125, 0.045 ]), array([0.2515, 0.123 , 0.005 , 0.0615, 0.017 , 0.0005, 0.006 , 0.039 ,\n",
      "       0.005 , 0.0015, 0.001 , 0.002 , 0.01  , 0.0035, 0.01  , 0.0145,\n",
      "       0.1185, 0.0455, 0.    , 0.037 , 0.0005, 0.0015, 0.0035, 0.0105,\n",
      "       0.064 , 0.04  , 0.001 , 0.015 , 0.055 , 0.0085, 0.014 , 0.0345]), array([0.2605, 0.107 , 0.0045, 0.076 , 0.019 , 0.    , 0.008 , 0.051 ,\n",
      "       0.005 , 0.001 , 0.0005, 0.004 , 0.01  , 0.0035, 0.009 , 0.0145,\n",
      "       0.114 , 0.042 , 0.0015, 0.033 , 0.001 , 0.0035, 0.0045, 0.011 ,\n",
      "       0.057 , 0.0355, 0.0015, 0.0145, 0.042 , 0.0115, 0.012 , 0.042 ]), array([0.2595, 0.0995, 0.0035, 0.0685, 0.0155, 0.002 , 0.013 , 0.057 ,\n",
      "       0.002 , 0.001 , 0.002 , 0.0035, 0.007 , 0.003 , 0.012 , 0.0145,\n",
      "       0.1205, 0.032 , 0.0005, 0.0445, 0.0015, 0.0015, 0.006 , 0.0105,\n",
      "       0.0735, 0.034 , 0.002 , 0.009 , 0.041 , 0.0055, 0.0135, 0.041 ]), array([0.2475, 0.1055, 0.0055, 0.063 , 0.02  , 0.001 , 0.0065, 0.0495,\n",
      "       0.0035, 0.0005, 0.0025, 0.002 , 0.0085, 0.003 , 0.0095, 0.019 ,\n",
      "       0.129 , 0.041 , 0.    , 0.037 , 0.0005, 0.0005, 0.003 , 0.0115,\n",
      "       0.0655, 0.037 , 0.003 , 0.013 , 0.0505, 0.01  , 0.013 , 0.0385]), array([0.2525, 0.1175, 0.004 , 0.0795, 0.0175, 0.    , 0.009 , 0.0425,\n",
      "       0.002 , 0.0015, 0.0015, 0.0045, 0.008 , 0.0045, 0.0065, 0.0125,\n",
      "       0.108 , 0.042 , 0.    , 0.0325, 0.0015, 0.003 , 0.0045, 0.0045,\n",
      "       0.0825, 0.0415, 0.0015, 0.024 , 0.0365, 0.0095, 0.0105, 0.0345]), array([0.2495, 0.1255, 0.0015, 0.073 , 0.0195, 0.0005, 0.008 , 0.043 ,\n",
      "       0.004 , 0.0005, 0.0005, 0.003 , 0.011 , 0.003 , 0.0095, 0.013 ,\n",
      "       0.0915, 0.045 , 0.    , 0.033 , 0.0005, 0.0005, 0.0035, 0.0105,\n",
      "       0.07  , 0.0435, 0.005 , 0.012 , 0.0615, 0.013 , 0.007 , 0.0385]), array([0.296 , 0.1025, 0.0035, 0.065 , 0.0185, 0.001 , 0.006 , 0.051 ,\n",
      "       0.0055, 0.0005, 0.0005, 0.003 , 0.0085, 0.0025, 0.014 , 0.018 ,\n",
      "       0.1035, 0.025 , 0.0005, 0.033 , 0.0005, 0.0015, 0.003 , 0.011 ,\n",
      "       0.055 , 0.0345, 0.002 , 0.014 , 0.0525, 0.0085, 0.016 , 0.0435]), array([0.2495, 0.0855, 0.0045, 0.0575, 0.018 , 0.0005, 0.008 , 0.056 ,\n",
      "       0.0065, 0.0005, 0.001 , 0.002 , 0.0065, 0.0045, 0.009 , 0.0125,\n",
      "       0.131 , 0.046 , 0.0015, 0.05  , 0.0015, 0.0015, 0.004 , 0.012 ,\n",
      "       0.0635, 0.043 , 0.002 , 0.0115, 0.049 , 0.009 , 0.013 , 0.0395]), array([0.236 , 0.1065, 0.003 , 0.0605, 0.016 , 0.001 , 0.0055, 0.0455,\n",
      "       0.002 , 0.    , 0.    , 0.0035, 0.0105, 0.0035, 0.008 , 0.01  ,\n",
      "       0.1365, 0.051 , 0.002 , 0.0455, 0.002 , 0.005 , 0.0035, 0.01  ,\n",
      "       0.071 , 0.041 , 0.0015, 0.0125, 0.048 , 0.0095, 0.0145, 0.035 ]), array([0.257 , 0.1265, 0.004 , 0.0755, 0.021 , 0.0005, 0.0085, 0.0475,\n",
      "       0.007 , 0.0025, 0.001 , 0.003 , 0.008 , 0.002 , 0.0115, 0.0105,\n",
      "       0.0845, 0.0275, 0.    , 0.045 , 0.001 , 0.0025, 0.0035, 0.0105,\n",
      "       0.059 , 0.044 , 0.0055, 0.013 , 0.0435, 0.0155, 0.014 , 0.045 ]), array([0.263 , 0.1285, 0.002 , 0.08  , 0.0165, 0.0015, 0.007 , 0.0455,\n",
      "       0.006 , 0.001 , 0.003 , 0.0005, 0.009 , 0.003 , 0.0095, 0.0185,\n",
      "       0.074 , 0.03  , 0.0005, 0.0305, 0.    , 0.0015, 0.003 , 0.006 ,\n",
      "       0.081 , 0.0365, 0.0025, 0.0125, 0.0555, 0.019 , 0.0135, 0.0395]), array([0.2485, 0.0855, 0.0045, 0.084 , 0.017 , 0.001 , 0.01  , 0.0515,\n",
      "       0.0025, 0.0005, 0.    , 0.001 , 0.009 , 0.002 , 0.0125, 0.013 ,\n",
      "       0.118 , 0.0425, 0.001 , 0.0525, 0.002 , 0.0035, 0.0045, 0.008 ,\n",
      "       0.064 , 0.034 , 0.0015, 0.016 , 0.0425, 0.0075, 0.018 , 0.042 ]), array([0.2415, 0.09  , 0.0045, 0.057 , 0.0165, 0.    , 0.012 , 0.044 ,\n",
      "       0.0025, 0.    , 0.002 , 0.005 , 0.005 , 0.006 , 0.008 , 0.0045,\n",
      "       0.159 , 0.055 , 0.0005, 0.049 , 0.005 , 0.0005, 0.007 , 0.0145,\n",
      "       0.0625, 0.03  , 0.0035, 0.0125, 0.045 , 0.0075, 0.0125, 0.0375]), array([0.2405, 0.151 , 0.003 , 0.07  , 0.018 , 0.0025, 0.009 , 0.0455,\n",
      "       0.006 , 0.002 , 0.001 , 0.003 , 0.0045, 0.0035, 0.0105, 0.012 ,\n",
      "       0.081 , 0.0545, 0.    , 0.035 , 0.    , 0.003 , 0.004 , 0.0075,\n",
      "       0.0575, 0.045 , 0.004 , 0.012 , 0.05  , 0.01  , 0.0135, 0.041 ]), array([0.2825, 0.1125, 0.0015, 0.083 , 0.014 , 0.0025, 0.008 , 0.04  ,\n",
      "       0.005 , 0.0035, 0.    , 0.002 , 0.014 , 0.0035, 0.006 , 0.0155,\n",
      "       0.0725, 0.031 , 0.0005, 0.0325, 0.001 , 0.005 , 0.0025, 0.005 ,\n",
      "       0.073 , 0.0495, 0.002 , 0.016 , 0.047 , 0.009 , 0.0115, 0.0485]), array([0.239 , 0.128 , 0.003 , 0.082 , 0.0145, 0.002 , 0.007 , 0.042 ,\n",
      "       0.006 , 0.001 , 0.002 , 0.0015, 0.0095, 0.003 , 0.009 , 0.0125,\n",
      "       0.09  , 0.0465, 0.001 , 0.038 , 0.0005, 0.001 , 0.0055, 0.0045,\n",
      "       0.071 , 0.051 , 0.001 , 0.0195, 0.0415, 0.0085, 0.016 , 0.0425]), array([0.2755, 0.1325, 0.008 , 0.054 , 0.0295, 0.0025, 0.004 , 0.056 ,\n",
      "       0.008 , 0.0035, 0.    , 0.003 , 0.0105, 0.0045, 0.0095, 0.021 ,\n",
      "       0.0845, 0.035 , 0.001 , 0.0215, 0.    , 0.0025, 0.0045, 0.007 ,\n",
      "       0.0575, 0.038 , 0.004 , 0.008 , 0.053 , 0.015 , 0.005 , 0.0415]), array([0.3145, 0.0915, 0.004 , 0.089 , 0.0125, 0.0005, 0.0055, 0.0505,\n",
      "       0.006 , 0.0015, 0.002 , 0.002 , 0.0125, 0.003 , 0.013 , 0.016 ,\n",
      "       0.0875, 0.016 , 0.    , 0.029 , 0.001 , 0.0025, 0.0025, 0.0035,\n",
      "       0.0815, 0.03  , 0.003 , 0.0135, 0.0445, 0.0055, 0.0195, 0.0365]), array([0.22  , 0.1575, 0.002 , 0.0615, 0.0175, 0.0025, 0.007 , 0.0315,\n",
      "       0.005 , 0.002 , 0.001 , 0.0015, 0.0135, 0.003 , 0.006 , 0.0145,\n",
      "       0.1   , 0.0745, 0.    , 0.0295, 0.    , 0.0015, 0.005 , 0.005 ,\n",
      "       0.0715, 0.061 , 0.003 , 0.016 , 0.037 , 0.0155, 0.0065, 0.028 ]), array([0.2965, 0.0805, 0.009 , 0.073 , 0.0155, 0.001 , 0.0085, 0.0465,\n",
      "       0.007 , 0.0015, 0.0015, 0.003 , 0.009 , 0.0025, 0.0115, 0.013 ,\n",
      "       0.078 , 0.0205, 0.002 , 0.029 , 0.003 , 0.003 , 0.002 , 0.0065,\n",
      "       0.1095, 0.033 , 0.004 , 0.0175, 0.0455, 0.011 , 0.017 , 0.039 ]), array([0.182 , 0.094 , 0.006 , 0.034 , 0.029 , 0.0045, 0.008 , 0.0585,\n",
      "       0.0075, 0.0015, 0.001 , 0.003 , 0.0115, 0.005 , 0.01  , 0.011 ,\n",
      "       0.1635, 0.085 , 0.0015, 0.0435, 0.006 , 0.0015, 0.004 , 0.0255,\n",
      "       0.049 , 0.037 , 0.0045, 0.0075, 0.049 , 0.0085, 0.0085, 0.039 ]), array([0.335 , 0.0765, 0.0065, 0.0945, 0.007 , 0.001 , 0.01  , 0.041 ,\n",
      "       0.011 , 0.0015, 0.0015, 0.001 , 0.0055, 0.002 , 0.008 , 0.017 ,\n",
      "       0.0595, 0.0175, 0.0035, 0.035 , 0.    , 0.004 , 0.003 , 0.005 ,\n",
      "       0.101 , 0.0285, 0.0005, 0.019 , 0.039 , 0.005 , 0.02  , 0.0405]), array([0.2475, 0.0785, 0.0035, 0.123 , 0.0075, 0.0015, 0.007 , 0.0245,\n",
      "       0.005 , 0.003 , 0.0005, 0.001 , 0.004 , 0.003 , 0.0065, 0.0165,\n",
      "       0.0825, 0.023 , 0.0045, 0.0425, 0.002 , 0.005 , 0.003 , 0.0055,\n",
      "       0.114 , 0.051 , 0.0005, 0.042 , 0.028 , 0.0025, 0.0135, 0.048 ]), array([0.3335, 0.064 , 0.007 , 0.062 , 0.0335, 0.001 , 0.017 , 0.0665,\n",
      "       0.012 , 0.003 , 0.0015, 0.0005, 0.0195, 0.002 , 0.0165, 0.023 ,\n",
      "       0.0655, 0.013 , 0.0035, 0.022 , 0.    , 0.0005, 0.002 , 0.0065,\n",
      "       0.0575, 0.015 , 0.0005, 0.024 , 0.069 , 0.007 , 0.019 , 0.0325]), array([0.169 , 0.236 , 0.002 , 0.06  , 0.017 , 0.0055, 0.011 , 0.0285,\n",
      "       0.003 , 0.0045, 0.001 , 0.004 , 0.0095, 0.0085, 0.0095, 0.012 ,\n",
      "       0.062 , 0.091 , 0.001 , 0.028 , 0.0015, 0.003 , 0.0045, 0.0025,\n",
      "       0.038 , 0.0585, 0.0045, 0.01  , 0.0445, 0.0275, 0.008 , 0.0345]), array([0.121 , 0.1225, 0.    , 0.0565, 0.017 , 0.005 , 0.025 , 0.0325,\n",
      "       0.0035, 0.003 , 0.001 , 0.0035, 0.0025, 0.008 , 0.004 , 0.006 ,\n",
      "       0.1535, 0.139 , 0.0015, 0.0775, 0.0075, 0.0015, 0.0185, 0.0235,\n",
      "       0.0275, 0.039 , 0.0005, 0.0105, 0.0195, 0.014 , 0.0235, 0.032 ]), array([0.163 , 0.055 , 0.0045, 0.09  , 0.0055, 0.001 , 0.0025, 0.0185,\n",
      "       0.0065, 0.0045, 0.    , 0.0005, 0.0015, 0.001 , 0.0115, 0.012 ,\n",
      "       0.246 , 0.0855, 0.009 , 0.1205, 0.0045, 0.005 , 0.003 , 0.0115,\n",
      "       0.0705, 0.019 , 0.0005, 0.022 , 0.005 , 0.0005, 0.002 , 0.018 ])]\n",
      "1.0\n",
      "1.0\n",
      "1.0\n",
      "1.0\n",
      "1.0\n",
      "1.0\n",
      "1.0\n",
      "1.0\n",
      "1.0\n",
      "1.0\n",
      "1.0\n",
      "1.0\n",
      "1.0\n",
      "1.0\n",
      "1.0\n",
      "1.0\n",
      "1.0\n",
      "1.0\n",
      "1.0\n",
      "1.0\n",
      "1.0\n",
      "1.0\n",
      "1.0\n",
      "0.9999999999999999\n",
      "1.0\n",
      "1.0\n",
      "1.0000000000000002\n",
      "1.0\n",
      "1.0\n",
      "1.0\n",
      "1.0\n",
      "1.0\n",
      "1.0\n",
      "1.0\n",
      "1.0\n",
      "1.0\n",
      "[0.5324001473047066, 0.03354305699753493, 0.013997644814095371, 0.01435474978385413, 0.00623785262575072, 0.024224945245579253, 0.015780982390750136, 0.03564918685818962, 0.045528683835702584, 0.050225723430304084, 0.021433588879814724, 0.04123351818447299, 0.03307717737283857, 0.0932643892680984, 0.08488748607799544, 0.10800689690871897, 0.13052120962390576, 0.25526480020496223]\n",
      "[0.5265320958960463, 0.030816306997726105, 0.018887709634601475, 0.020067646202433856, 0.00878153619529576, 0.016618844802879427, 0.023002060687194466, 0.05052713781152186, 0.0553276488606206, 0.08123956467223686, 0.09192228025287412, 0.0762597350299719, 0.08044612256702842, 0.01246873290727354, 0.15306126988877924, 0.08239973656644388, 0.03032920722408434, 0.33411905520260465]\n"
     ]
    }
   ],
   "source": [
    "y_dat_noise_half = extract_sv_from_execution_job()\n",
    "print(y_dat_noise_half)\n",
    "y_dat_half_t1 = [] \n",
    "y_dat_half_t2 = []\n",
    "for i in range(len(y_dat_noise_half)):\n",
    "        state_vec_entry = y_dat_noise_half[i]\n",
    "        print(np.sum(state_vec_entry))\n",
    "        error_val = get_error(state_vec_entry, exact_probabilities)\n",
    "        if(i % 2 == 0):\n",
    "            y_dat_half_t1.append(error_val)\n",
    "        else:\n",
    "            y_dat_half_t2.append(error_val)\n",
    "print(y_dat_half_t1)\n",
    "print(y_dat_half_t2)\n",
    "# x_dat rn: [1, 41, 81, 121, 161, 201]\n",
    "x_dat_save = [1, 3, 5, 7, 9, 11, 15, 19, 23, 27, 31, 35, 41, 51, 61, 81, 121, 161]\n",
    "for i in range(18):\n",
    "    data_points_tenth_fixed.append([x_dat_save[i], y_dat_half_t1[i], y_dat_half_t2[i]])"
   ]
  },
  {
   "cell_type": "code",
   "execution_count": 364,
   "metadata": {},
   "outputs": [
    {
     "name": "stdout",
     "output_type": "stream",
     "text": [
      "step_cnt = 1, noise_scale = 0.005\n",
      "generating 2\n",
      "generated circuits\n",
      "step_cnt = 3, noise_scale = 0.005\n",
      "generating 2\n",
      "generated circuits\n",
      "step_cnt = 5, noise_scale = 0.005\n",
      "generating 2\n",
      "generated circuits\n",
      "step_cnt = 7, noise_scale = 0.005\n",
      "generating 2\n",
      "generated circuits\n",
      "step_cnt = 9, noise_scale = 0.005\n",
      "generating 2\n",
      "generated circuits\n",
      "step_cnt = 11, noise_scale = 0.005\n",
      "generating 2\n",
      "generated circuits\n",
      "step_cnt = 15, noise_scale = 0.005\n",
      "generating 2\n",
      "generated circuits\n",
      "step_cnt = 19, noise_scale = 0.005\n",
      "generating 2\n",
      "generated circuits\n",
      "step_cnt = 23, noise_scale = 0.005\n",
      "generating 2\n",
      "generated circuits\n",
      "step_cnt = 27, noise_scale = 0.005\n",
      "generating 2\n",
      "generated circuits\n",
      "step_cnt = 31, noise_scale = 0.005\n",
      "generating 2\n",
      "generated circuits\n",
      "step_cnt = 35, noise_scale = 0.005\n",
      "generating 2\n",
      "generated circuits\n",
      "step_cnt = 41, noise_scale = 0.005\n",
      "generating 2\n",
      "generated circuits\n",
      "step_cnt = 51, noise_scale = 0.005\n",
      "generating 2\n",
      "generated circuits\n",
      "step_cnt = 61, noise_scale = 0.005\n",
      "generating 2\n",
      "generated circuits\n",
      "step_cnt = 81, noise_scale = 0.005\n",
      "generating 2\n",
      "generated circuits\n",
      "step_cnt = 121, noise_scale = 0.005\n",
      "generating 2\n",
      "generated circuits\n",
      "step_cnt = 161, noise_scale = 0.005\n",
      "generating 2\n",
      "generated circuits\n",
      "computing bulk\n",
      "run batch size 36\n"
     ]
    },
    {
     "ename": "AuthenticationError",
     "evalue": "Not authenticated. Please run `qnx login` in your terminal.",
     "output_type": "error",
     "traceback": [
      "\u001b[0;31m---------------------------------------------------------------------------\u001b[0m",
      "\u001b[0;31mAuthenticationError\u001b[0m                       Traceback (most recent call last)",
      "Cell \u001b[0;32mIn[364], line 21\u001b[0m\n\u001b[1;32m     19\u001b[0m     circ_arr\u001b[38;5;241m.\u001b[39mappend(lcl_circ2)\n\u001b[1;32m     20\u001b[0m \u001b[38;5;28mprint\u001b[39m(\u001b[38;5;124m\"\u001b[39m\u001b[38;5;124mcomputing bulk\u001b[39m\u001b[38;5;124m\"\u001b[39m)\n\u001b[0;32m---> 21\u001b[0m bulk_datum \u001b[38;5;241m=\u001b[39m \u001b[43msimulate_noisy_trotter_circuit_data_bulk\u001b[49m\u001b[43m(\u001b[49m\u001b[43mcirc_arr\u001b[49m\u001b[43m,\u001b[49m\u001b[43m \u001b[49m\u001b[43mnoise_val\u001b[49m\u001b[43m,\u001b[49m\u001b[43m \u001b[49m\u001b[38;5;124;43mf\u001b[39;49m\u001b[38;5;124;43m\"\u001b[39;49m\u001b[38;5;124;43ms-l1batch-\u001b[39;49m\u001b[38;5;132;43;01m{\u001b[39;49;00m\u001b[43mnoise_val\u001b[49m\u001b[38;5;132;43;01m}\u001b[39;49;00m\u001b[38;5;124;43m-v27\u001b[39;49m\u001b[38;5;124;43m\"\u001b[39;49m\u001b[43m)\u001b[49m\n\u001b[1;32m     22\u001b[0m \u001b[38;5;28mprint\u001b[39m(\u001b[38;5;124m\"\u001b[39m\u001b[38;5;124mcomputed bulk\u001b[39m\u001b[38;5;124m\"\u001b[39m)\n\u001b[1;32m     23\u001b[0m \u001b[38;5;28;01mfor\u001b[39;00m i \u001b[38;5;129;01min\u001b[39;00m \u001b[38;5;28mrange\u001b[39m(\u001b[38;5;28mlen\u001b[39m(bulk_datum)):\n",
      "Cell \u001b[0;32mIn[350], line 8\u001b[0m, in \u001b[0;36msimulate_noisy_trotter_circuit_data_bulk\u001b[0;34m(circuit_list, noise_param, suffix_2)\u001b[0m\n\u001b[1;32m      6\u001b[0m ref_list \u001b[38;5;241m=\u001b[39m []\n\u001b[1;32m      7\u001b[0m \u001b[38;5;28;01mfor\u001b[39;00m i \u001b[38;5;129;01min\u001b[39;00m \u001b[38;5;28mrange\u001b[39m(\u001b[38;5;28mlen\u001b[39m(circuit_list)):\n\u001b[0;32m----> 8\u001b[0m     ref \u001b[38;5;241m=\u001b[39m \u001b[43mqnx\u001b[49m\u001b[38;5;241;43m.\u001b[39;49m\u001b[43mcircuits\u001b[49m\u001b[38;5;241;43m.\u001b[39;49m\u001b[43mupload\u001b[49m\u001b[43m(\u001b[49m\u001b[43mcircuit\u001b[49m\u001b[38;5;241;43m=\u001b[39;49m\u001b[43mcircuit_list\u001b[49m\u001b[43m[\u001b[49m\u001b[43mi\u001b[49m\u001b[43m]\u001b[49m\u001b[43m,\u001b[49m\u001b[43m \u001b[49m\u001b[43mname\u001b[49m\u001b[38;5;241;43m=\u001b[39;49m\u001b[38;5;124;43mf\u001b[39;49m\u001b[38;5;124;43m\"\u001b[39;49m\u001b[38;5;124;43mTrans-Circuit-\u001b[39;49m\u001b[38;5;132;43;01m{\u001b[39;49;00m\u001b[43mjobname_suffix\u001b[49m\u001b[38;5;132;43;01m}\u001b[39;49;00m\u001b[38;5;124;43m-\u001b[39;49m\u001b[38;5;132;43;01m{\u001b[39;49;00m\u001b[43msuffix_2\u001b[49m\u001b[38;5;132;43;01m}\u001b[39;49;00m\u001b[38;5;124;43m-lind\u001b[39;49m\u001b[38;5;132;43;01m{\u001b[39;49;00m\u001b[43mi\u001b[49m\u001b[38;5;132;43;01m}\u001b[39;49;00m\u001b[38;5;124;43m\"\u001b[39;49m\u001b[43m)\u001b[49m\n\u001b[1;32m      9\u001b[0m     ref_list\u001b[38;5;241m.\u001b[39mappend(ref)\n\u001b[1;32m     10\u001b[0m ref_compile_job \u001b[38;5;241m=\u001b[39m qnx\u001b[38;5;241m.\u001b[39mstart_compile_job(\n\u001b[1;32m     11\u001b[0m     circuits\u001b[38;5;241m=\u001b[39mref_list,\n\u001b[1;32m     12\u001b[0m     backend_config\u001b[38;5;241m=\u001b[39mh1_config_noisy,\n\u001b[1;32m     13\u001b[0m     optimisation_level\u001b[38;5;241m=\u001b[39m\u001b[38;5;241m2\u001b[39m,\n\u001b[1;32m     14\u001b[0m     name\u001b[38;5;241m=\u001b[39m\u001b[38;5;124mf\u001b[39m\u001b[38;5;124m\"\u001b[39m\u001b[38;5;124mcompilation-job-\u001b[39m\u001b[38;5;132;01m{\u001b[39;00mjobname_suffix\u001b[38;5;132;01m}\u001b[39;00m\u001b[38;5;124m-\u001b[39m\u001b[38;5;132;01m{\u001b[39;00msuffix_2\u001b[38;5;132;01m}\u001b[39;00m\u001b[38;5;124m-batch\u001b[39m\u001b[38;5;124m\"\u001b[39m\n\u001b[1;32m     15\u001b[0m )\n",
      "File \u001b[0;32m/opt/conda/lib/python3.10/site-packages/qnexus/context.py:172\u001b[0m, in \u001b[0;36mmerge_properties_from_context.<locals>._merge_properties_from_context\u001b[0;34m(*args, **kwargs)\u001b[0m\n\u001b[1;32m    170\u001b[0m     kwargs[\u001b[38;5;124m\"\u001b[39m\u001b[38;5;124mproperties\u001b[39m\u001b[38;5;124m\"\u001b[39m] \u001b[38;5;241m=\u001b[39m PropertiesDict()\n\u001b[1;32m    171\u001b[0m kwargs[\u001b[38;5;124m\"\u001b[39m\u001b[38;5;124mproperties\u001b[39m\u001b[38;5;124m\"\u001b[39m] \u001b[38;5;241m=\u001b[39m get_active_properties() \u001b[38;5;241m|\u001b[39m kwargs[\u001b[38;5;124m\"\u001b[39m\u001b[38;5;124mproperties\u001b[39m\u001b[38;5;124m\"\u001b[39m]\n\u001b[0;32m--> 172\u001b[0m \u001b[38;5;28;01mreturn\u001b[39;00m \u001b[43mfunc\u001b[49m\u001b[43m(\u001b[49m\u001b[38;5;241;43m*\u001b[39;49m\u001b[43margs\u001b[49m\u001b[43m,\u001b[49m\u001b[43m \u001b[49m\u001b[38;5;241;43m*\u001b[39;49m\u001b[38;5;241;43m*\u001b[39;49m\u001b[43mkwargs\u001b[49m\u001b[43m)\u001b[49m\n",
      "File \u001b[0;32m/opt/conda/lib/python3.10/site-packages/qnexus/client/circuits.py:190\u001b[0m, in \u001b[0;36mupload\u001b[0;34m(circuit, project, name, description, properties)\u001b[0m\n\u001b[1;32m    180\u001b[0m relationships \u001b[38;5;241m=\u001b[39m {\u001b[38;5;124m\"\u001b[39m\u001b[38;5;124mproject\u001b[39m\u001b[38;5;124m\"\u001b[39m: {\u001b[38;5;124m\"\u001b[39m\u001b[38;5;124mdata\u001b[39m\u001b[38;5;124m\"\u001b[39m: {\u001b[38;5;124m\"\u001b[39m\u001b[38;5;124mid\u001b[39m\u001b[38;5;124m\"\u001b[39m: \u001b[38;5;28mstr\u001b[39m(project\u001b[38;5;241m.\u001b[39mid), \u001b[38;5;124m\"\u001b[39m\u001b[38;5;124mtype\u001b[39m\u001b[38;5;124m\"\u001b[39m: \u001b[38;5;124m\"\u001b[39m\u001b[38;5;124mproject\u001b[39m\u001b[38;5;124m\"\u001b[39m}}}\n\u001b[1;32m    182\u001b[0m req_dict \u001b[38;5;241m=\u001b[39m {\n\u001b[1;32m    183\u001b[0m     \u001b[38;5;124m\"\u001b[39m\u001b[38;5;124mdata\u001b[39m\u001b[38;5;124m\"\u001b[39m: {\n\u001b[1;32m    184\u001b[0m         \u001b[38;5;124m\"\u001b[39m\u001b[38;5;124mattributes\u001b[39m\u001b[38;5;124m\"\u001b[39m: circuit_dict,\n\u001b[0;32m   (...)\u001b[0m\n\u001b[1;32m    187\u001b[0m     }\n\u001b[1;32m    188\u001b[0m }\n\u001b[0;32m--> 190\u001b[0m res \u001b[38;5;241m=\u001b[39m \u001b[43mget_nexus_client\u001b[49m\u001b[43m(\u001b[49m\u001b[43m)\u001b[49m\u001b[38;5;241;43m.\u001b[39;49m\u001b[43mpost\u001b[49m\u001b[43m(\u001b[49m\u001b[38;5;124;43m\"\u001b[39;49m\u001b[38;5;124;43m/api/circuits/v1beta\u001b[39;49m\u001b[38;5;124;43m\"\u001b[39;49m\u001b[43m,\u001b[49m\u001b[43m \u001b[49m\u001b[43mjson\u001b[49m\u001b[38;5;241;43m=\u001b[39;49m\u001b[43mreq_dict\u001b[49m\u001b[43m)\u001b[49m\n\u001b[1;32m    192\u001b[0m \u001b[38;5;66;03m# https://cqc.atlassian.net/browse/MUS-3054\u001b[39;00m\n\u001b[1;32m    193\u001b[0m \u001b[38;5;28;01mif\u001b[39;00m res\u001b[38;5;241m.\u001b[39mstatus_code \u001b[38;5;241m!=\u001b[39m \u001b[38;5;241m201\u001b[39m:\n",
      "File \u001b[0;32m/opt/conda/lib/python3.10/site-packages/httpx/_client.py:1132\u001b[0m, in \u001b[0;36mClient.post\u001b[0;34m(self, url, content, data, files, json, params, headers, cookies, auth, follow_redirects, timeout, extensions)\u001b[0m\n\u001b[1;32m   1111\u001b[0m \u001b[38;5;28;01mdef\u001b[39;00m \u001b[38;5;21mpost\u001b[39m(\n\u001b[1;32m   1112\u001b[0m     \u001b[38;5;28mself\u001b[39m,\n\u001b[1;32m   1113\u001b[0m     url: URLTypes,\n\u001b[0;32m   (...)\u001b[0m\n\u001b[1;32m   1125\u001b[0m     extensions: typing\u001b[38;5;241m.\u001b[39mOptional[RequestExtensions] \u001b[38;5;241m=\u001b[39m \u001b[38;5;28;01mNone\u001b[39;00m,\n\u001b[1;32m   1126\u001b[0m ) \u001b[38;5;241m-\u001b[39m\u001b[38;5;241m>\u001b[39m Response:\n\u001b[1;32m   1127\u001b[0m \u001b[38;5;250m    \u001b[39m\u001b[38;5;124;03m\"\"\"\u001b[39;00m\n\u001b[1;32m   1128\u001b[0m \u001b[38;5;124;03m    Send a `POST` request.\u001b[39;00m\n\u001b[1;32m   1129\u001b[0m \n\u001b[1;32m   1130\u001b[0m \u001b[38;5;124;03m    **Parameters**: See `httpx.request`.\u001b[39;00m\n\u001b[1;32m   1131\u001b[0m \u001b[38;5;124;03m    \"\"\"\u001b[39;00m\n\u001b[0;32m-> 1132\u001b[0m     \u001b[38;5;28;01mreturn\u001b[39;00m \u001b[38;5;28;43mself\u001b[39;49m\u001b[38;5;241;43m.\u001b[39;49m\u001b[43mrequest\u001b[49m\u001b[43m(\u001b[49m\n\u001b[1;32m   1133\u001b[0m \u001b[43m        \u001b[49m\u001b[38;5;124;43m\"\u001b[39;49m\u001b[38;5;124;43mPOST\u001b[39;49m\u001b[38;5;124;43m\"\u001b[39;49m\u001b[43m,\u001b[49m\n\u001b[1;32m   1134\u001b[0m \u001b[43m        \u001b[49m\u001b[43murl\u001b[49m\u001b[43m,\u001b[49m\n\u001b[1;32m   1135\u001b[0m \u001b[43m        \u001b[49m\u001b[43mcontent\u001b[49m\u001b[38;5;241;43m=\u001b[39;49m\u001b[43mcontent\u001b[49m\u001b[43m,\u001b[49m\n\u001b[1;32m   1136\u001b[0m \u001b[43m        \u001b[49m\u001b[43mdata\u001b[49m\u001b[38;5;241;43m=\u001b[39;49m\u001b[43mdata\u001b[49m\u001b[43m,\u001b[49m\n\u001b[1;32m   1137\u001b[0m \u001b[43m        \u001b[49m\u001b[43mfiles\u001b[49m\u001b[38;5;241;43m=\u001b[39;49m\u001b[43mfiles\u001b[49m\u001b[43m,\u001b[49m\n\u001b[1;32m   1138\u001b[0m \u001b[43m        \u001b[49m\u001b[43mjson\u001b[49m\u001b[38;5;241;43m=\u001b[39;49m\u001b[43mjson\u001b[49m\u001b[43m,\u001b[49m\n\u001b[1;32m   1139\u001b[0m \u001b[43m        \u001b[49m\u001b[43mparams\u001b[49m\u001b[38;5;241;43m=\u001b[39;49m\u001b[43mparams\u001b[49m\u001b[43m,\u001b[49m\n\u001b[1;32m   1140\u001b[0m \u001b[43m        \u001b[49m\u001b[43mheaders\u001b[49m\u001b[38;5;241;43m=\u001b[39;49m\u001b[43mheaders\u001b[49m\u001b[43m,\u001b[49m\n\u001b[1;32m   1141\u001b[0m \u001b[43m        \u001b[49m\u001b[43mcookies\u001b[49m\u001b[38;5;241;43m=\u001b[39;49m\u001b[43mcookies\u001b[49m\u001b[43m,\u001b[49m\n\u001b[1;32m   1142\u001b[0m \u001b[43m        \u001b[49m\u001b[43mauth\u001b[49m\u001b[38;5;241;43m=\u001b[39;49m\u001b[43mauth\u001b[49m\u001b[43m,\u001b[49m\n\u001b[1;32m   1143\u001b[0m \u001b[43m        \u001b[49m\u001b[43mfollow_redirects\u001b[49m\u001b[38;5;241;43m=\u001b[39;49m\u001b[43mfollow_redirects\u001b[49m\u001b[43m,\u001b[49m\n\u001b[1;32m   1144\u001b[0m \u001b[43m        \u001b[49m\u001b[43mtimeout\u001b[49m\u001b[38;5;241;43m=\u001b[39;49m\u001b[43mtimeout\u001b[49m\u001b[43m,\u001b[49m\n\u001b[1;32m   1145\u001b[0m \u001b[43m        \u001b[49m\u001b[43mextensions\u001b[49m\u001b[38;5;241;43m=\u001b[39;49m\u001b[43mextensions\u001b[49m\u001b[43m,\u001b[49m\n\u001b[1;32m   1146\u001b[0m \u001b[43m    \u001b[49m\u001b[43m)\u001b[49m\n",
      "File \u001b[0;32m/opt/conda/lib/python3.10/site-packages/httpx/_client.py:814\u001b[0m, in \u001b[0;36mClient.request\u001b[0;34m(self, method, url, content, data, files, json, params, headers, cookies, auth, follow_redirects, timeout, extensions)\u001b[0m\n\u001b[1;32m    799\u001b[0m     warnings\u001b[38;5;241m.\u001b[39mwarn(message, \u001b[38;5;167;01mDeprecationWarning\u001b[39;00m)\n\u001b[1;32m    801\u001b[0m request \u001b[38;5;241m=\u001b[39m \u001b[38;5;28mself\u001b[39m\u001b[38;5;241m.\u001b[39mbuild_request(\n\u001b[1;32m    802\u001b[0m     method\u001b[38;5;241m=\u001b[39mmethod,\n\u001b[1;32m    803\u001b[0m     url\u001b[38;5;241m=\u001b[39murl,\n\u001b[0;32m   (...)\u001b[0m\n\u001b[1;32m    812\u001b[0m     extensions\u001b[38;5;241m=\u001b[39mextensions,\n\u001b[1;32m    813\u001b[0m )\n\u001b[0;32m--> 814\u001b[0m \u001b[38;5;28;01mreturn\u001b[39;00m \u001b[38;5;28;43mself\u001b[39;49m\u001b[38;5;241;43m.\u001b[39;49m\u001b[43msend\u001b[49m\u001b[43m(\u001b[49m\u001b[43mrequest\u001b[49m\u001b[43m,\u001b[49m\u001b[43m \u001b[49m\u001b[43mauth\u001b[49m\u001b[38;5;241;43m=\u001b[39;49m\u001b[43mauth\u001b[49m\u001b[43m,\u001b[49m\u001b[43m \u001b[49m\u001b[43mfollow_redirects\u001b[49m\u001b[38;5;241;43m=\u001b[39;49m\u001b[43mfollow_redirects\u001b[49m\u001b[43m)\u001b[49m\n",
      "File \u001b[0;32m/opt/conda/lib/python3.10/site-packages/httpx/_client.py:901\u001b[0m, in \u001b[0;36mClient.send\u001b[0;34m(self, request, stream, auth, follow_redirects)\u001b[0m\n\u001b[1;32m    893\u001b[0m follow_redirects \u001b[38;5;241m=\u001b[39m (\n\u001b[1;32m    894\u001b[0m     \u001b[38;5;28mself\u001b[39m\u001b[38;5;241m.\u001b[39mfollow_redirects\n\u001b[1;32m    895\u001b[0m     \u001b[38;5;28;01mif\u001b[39;00m \u001b[38;5;28misinstance\u001b[39m(follow_redirects, UseClientDefault)\n\u001b[1;32m    896\u001b[0m     \u001b[38;5;28;01melse\u001b[39;00m follow_redirects\n\u001b[1;32m    897\u001b[0m )\n\u001b[1;32m    899\u001b[0m auth \u001b[38;5;241m=\u001b[39m \u001b[38;5;28mself\u001b[39m\u001b[38;5;241m.\u001b[39m_build_request_auth(request, auth)\n\u001b[0;32m--> 901\u001b[0m response \u001b[38;5;241m=\u001b[39m \u001b[38;5;28;43mself\u001b[39;49m\u001b[38;5;241;43m.\u001b[39;49m\u001b[43m_send_handling_auth\u001b[49m\u001b[43m(\u001b[49m\n\u001b[1;32m    902\u001b[0m \u001b[43m    \u001b[49m\u001b[43mrequest\u001b[49m\u001b[43m,\u001b[49m\n\u001b[1;32m    903\u001b[0m \u001b[43m    \u001b[49m\u001b[43mauth\u001b[49m\u001b[38;5;241;43m=\u001b[39;49m\u001b[43mauth\u001b[49m\u001b[43m,\u001b[49m\n\u001b[1;32m    904\u001b[0m \u001b[43m    \u001b[49m\u001b[43mfollow_redirects\u001b[49m\u001b[38;5;241;43m=\u001b[39;49m\u001b[43mfollow_redirects\u001b[49m\u001b[43m,\u001b[49m\n\u001b[1;32m    905\u001b[0m \u001b[43m    \u001b[49m\u001b[43mhistory\u001b[49m\u001b[38;5;241;43m=\u001b[39;49m\u001b[43m[\u001b[49m\u001b[43m]\u001b[49m\u001b[43m,\u001b[49m\n\u001b[1;32m    906\u001b[0m \u001b[43m\u001b[49m\u001b[43m)\u001b[49m\n\u001b[1;32m    907\u001b[0m \u001b[38;5;28;01mtry\u001b[39;00m:\n\u001b[1;32m    908\u001b[0m     \u001b[38;5;28;01mif\u001b[39;00m \u001b[38;5;129;01mnot\u001b[39;00m stream:\n",
      "File \u001b[0;32m/opt/conda/lib/python3.10/site-packages/httpx/_client.py:947\u001b[0m, in \u001b[0;36mClient._send_handling_auth\u001b[0;34m(self, request, auth, follow_redirects, history)\u001b[0m\n\u001b[1;32m    945\u001b[0m         \u001b[38;5;28;01mexcept\u001b[39;00m \u001b[38;5;167;01mBaseException\u001b[39;00m \u001b[38;5;28;01mas\u001b[39;00m exc:\n\u001b[1;32m    946\u001b[0m             response\u001b[38;5;241m.\u001b[39mclose()\n\u001b[0;32m--> 947\u001b[0m             \u001b[38;5;28;01mraise\u001b[39;00m exc\n\u001b[1;32m    948\u001b[0m \u001b[38;5;28;01mfinally\u001b[39;00m:\n\u001b[1;32m    949\u001b[0m     auth_flow\u001b[38;5;241m.\u001b[39mclose()\n",
      "File \u001b[0;32m/opt/conda/lib/python3.10/site-packages/httpx/_client.py:936\u001b[0m, in \u001b[0;36mClient._send_handling_auth\u001b[0;34m(self, request, auth, follow_redirects, history)\u001b[0m\n\u001b[1;32m    934\u001b[0m \u001b[38;5;28;01mtry\u001b[39;00m:\n\u001b[1;32m    935\u001b[0m     \u001b[38;5;28;01mtry\u001b[39;00m:\n\u001b[0;32m--> 936\u001b[0m         next_request \u001b[38;5;241m=\u001b[39m \u001b[43mauth_flow\u001b[49m\u001b[38;5;241;43m.\u001b[39;49m\u001b[43msend\u001b[49m\u001b[43m(\u001b[49m\u001b[43mresponse\u001b[49m\u001b[43m)\u001b[49m\n\u001b[1;32m    937\u001b[0m     \u001b[38;5;28;01mexcept\u001b[39;00m \u001b[38;5;167;01mStopIteration\u001b[39;00m:\n\u001b[1;32m    938\u001b[0m         \u001b[38;5;28;01mreturn\u001b[39;00m response\n",
      "File \u001b[0;32m/opt/conda/lib/python3.10/site-packages/httpx/_auth.py:78\u001b[0m, in \u001b[0;36mAuth.sync_auth_flow\u001b[0;34m(self, request)\u001b[0m\n\u001b[1;32m     75\u001b[0m     response\u001b[38;5;241m.\u001b[39mread()\n\u001b[1;32m     77\u001b[0m \u001b[38;5;28;01mtry\u001b[39;00m:\n\u001b[0;32m---> 78\u001b[0m     request \u001b[38;5;241m=\u001b[39m \u001b[43mflow\u001b[49m\u001b[38;5;241;43m.\u001b[39;49m\u001b[43msend\u001b[49m\u001b[43m(\u001b[49m\u001b[43mresponse\u001b[49m\u001b[43m)\u001b[49m\n\u001b[1;32m     79\u001b[0m \u001b[38;5;28;01mexcept\u001b[39;00m \u001b[38;5;167;01mStopIteration\u001b[39;00m:\n\u001b[1;32m     80\u001b[0m     \u001b[38;5;28;01mbreak\u001b[39;00m\n",
      "File \u001b[0;32m/opt/conda/lib/python3.10/site-packages/qnexus/client/__init__.py:50\u001b[0m, in \u001b[0;36mAuthHandler.auth_flow\u001b[0;34m(self, request)\u001b[0m\n\u001b[1;32m     48\u001b[0m auth_response \u001b[38;5;241m=\u001b[39m \u001b[38;5;28;01myield\u001b[39;00m \u001b[38;5;28mself\u001b[39m\u001b[38;5;241m.\u001b[39mbuild_refresh_request()\n\u001b[1;32m     49\u001b[0m \u001b[38;5;28;01mif\u001b[39;00m auth_response\u001b[38;5;241m.\u001b[39mstatus_code \u001b[38;5;241m==\u001b[39m \u001b[38;5;241m401\u001b[39m:\n\u001b[0;32m---> 50\u001b[0m     \u001b[38;5;28;01mraise\u001b[39;00m AuthenticationError(\n\u001b[1;32m     51\u001b[0m         \u001b[38;5;124m\"\u001b[39m\u001b[38;5;124mNot authenticated. Please run `qnx login` in your terminal.\u001b[39m\u001b[38;5;124m\"\u001b[39m\n\u001b[1;32m     52\u001b[0m     )\n\u001b[1;32m     54\u001b[0m auth_response\u001b[38;5;241m.\u001b[39mraise_for_status()\n\u001b[1;32m     55\u001b[0m \u001b[38;5;28mself\u001b[39m\u001b[38;5;241m.\u001b[39mcookies\u001b[38;5;241m.\u001b[39mextract_cookies(auth_response)\n",
      "\u001b[0;31mAuthenticationError\u001b[0m: Not authenticated. Please run `qnx login` in your terminal."
     ]
    }
   ],
   "source": [
    "x_dat = [1, 3, 5, 7, 9, 11, 15, 19, 23, 27, 31, 35, 41, 51, 61, 81, 121, 161]\n",
    "y_dat = []\n",
    "y2_dat = []\n",
    "noise_scales = [0.005]\n",
    "ind_tmp = 0\n",
    "for noise_val in noise_scales:\n",
    "    y_dat.append([])\n",
    "    y2_dat.append([])\n",
    "    circ_arr = []\n",
    "    for step_cnt in x_dat:\n",
    "        print(f\"step_cnt = {step_cnt}, noise_scale = {noise_val}\")\n",
    "        lcl_circ = get_transverse_order_1_trotterisation_circuit(5, 1.2, 1, step_cnt, t)\n",
    "        lcl_circ.measure_all()\n",
    "        print(\"generating 2\")\n",
    "        lcl_circ2 = get_transverse_order_2_trotterisation_circuit(5, 1.2, 1, step_cnt, t)\n",
    "        lcl_circ2.measure_all()\n",
    "        print(\"generated circuits\")\n",
    "        circ_arr.append(lcl_circ)\n",
    "        circ_arr.append(lcl_circ2)\n",
    "    print(\"computing bulk\")\n",
    "    bulk_datum = simulate_noisy_trotter_circuit_data_bulk(circ_arr, noise_val, f\"s-l1batch-{noise_val}-v27\")\n",
    "    print(\"computed bulk\")\n",
    "    for i in range(len(bulk_datum)):\n",
    "        state_vec_entry = bulk_datum[i]\n",
    "        error_val = np.linalg.norm(state_vec_entry - exact_probabilities)\n",
    "        if(i % 2 == 0):\n",
    "            y_dat[ind_tmp].append(error_val)\n",
    "            y2_dat[ind_tmp].append(error_val)\n",
    "    ind_tmp += 1"
   ]
  },
  {
   "cell_type": "code",
   "execution_count": 171,
   "metadata": {},
   "outputs": [
    {
     "data": {
      "text/plain": [
       "True"
      ]
     },
     "execution_count": 171,
     "metadata": {},
     "output_type": "execute_result"
    }
   ],
   "source": [
    "qnx.devices.supports_counts(\n",
    "    qnx.QuantinuumConfig(device_name=\"H1-Emulator\")\n",
    ")"
   ]
  },
  {
   "cell_type": "code",
   "execution_count": 361,
   "metadata": {},
   "outputs": [
    {
     "data": {
      "image/png": "[encoded data removed]",
      "text/plain": [
       "<Figure size 640x480 with 1 Axes>"
      ]
     },
     "metadata": {},
     "output_type": "display_data"
    }
   ],
   "source": [
    "import matplotlib.pyplot as plt\n",
    "\n",
    "data_points = sorted(data_points, key=lambda x: x[0])\n",
    "data_points_tenth = sorted(data_points_tenth, key=lambda x: x[0])\n",
    "\n",
    "plt.loglog([dp[0] for dp in data_points], [dp[1] for dp in data_points], label=\"1st order, 1x error scaling\")\n",
    "plt.loglog([dp[0] for dp in data_points], [dp[2] for dp in data_points], label=\"2nd order, 1x error scaling\")\n",
    "plt.loglog([dp[0] for dp in data_points_tenth_fixed], [dp[1] for dp in data_points_tenth_fixed], label=\"1st order, 0.1 error scaling\")\n",
    "plt.loglog([dp[0] for dp in data_points_tenth_fixed], [dp[2] for dp in data_points_tenth_fixed], label=\"2nd order, 0.1 error scaling\")\n",
    "#plt.loglog([dp[0] for dp in data_points_thousandth], [dp[1] for dp in data_points_thousandth], label=\"1st order, 0.001 error scaling\")\n",
    "#plt.loglog([dp[0] for dp in data_points_thousandth], [dp[2] for dp in data_points_thousandth], label=\"2nd order, 0.001 error scaling\")\n",
    "plt.loglog([1, 21, 41, 61, 81, 101, 121], ymod_dat, label=\"1st order, no error\")\n",
    "plt.loglog([1, 21, 41, 61, 81, 101, 121], y2mod_dat, label=\"2nd order, no error\")\n",
    "plt.xlim(right=100)\n",
    "plt.title(\"(RMS error of difference between expected probability and actual probability for joint q_0, q_1 measurement) for 5 Qubit Transverse Ising Model under Simulator with Errors [2000 shots]\")\n",
    "plt.legend()\n",
    "plt.show()"
   ]
  },
  {
   "cell_type": "markdown",
   "metadata": {},
   "source": [
    "### Task 5: Other Hamiltonians\n",
    "\n",
    "You can try to implement other Hamiltonians you can find in the literature."
   ]
  },
  {
   "cell_type": "code",
   "execution_count": null,
   "metadata": {},
   "outputs": [],
   "source": []
  },
  {
   "cell_type": "markdown",
   "metadata": {},
   "source": [
    "## Section 2: Simulating quantum systems\n",
    "\n",
    "In the following we study several physically interesting cases of quantum system dynamics for the XXZ Hamiltonian."
   ]
  },
  {
   "cell_type": "code",
   "execution_count": 444,
   "metadata": {},
   "outputs": [],
   "source": [
    "import numpy as np\n",
    "from matplotlib import pyplot as plt\n",
    "\n",
    "from pytket.utils.expectations import get_operator_expectation_value\n",
    "from pytket.extensions.qiskit import AerBackend\n",
    "import time\n",
    "\n",
    "aer_sim = AerBackend()\n",
    "quantinuum_sim = qnx.QuantinuumConfig(device_name=\"H1-Emulator\")"
   ]
  },
  {
   "cell_type": "markdown",
   "metadata": {},
   "source": [
    "Let's first define our Hamiltonian again. We focus on the XXZ Heisenberg model here."
   ]
  },
  {
   "cell_type": "code",
   "execution_count": 382,
   "metadata": {},
   "outputs": [
    {
     "name": "stdout",
     "output_type": "stream",
     "text": [
      "{(Zq[0], Zq[1]): 1.72000000000000, (Xq[0], Xq[1]): 1.00000000000000, (Yq[0], Yq[1]): 1.00000000000000, (Zq[1], Zq[2]): 1.72000000000000, (Xq[1], Xq[2]): 1.00000000000000, (Yq[1], Yq[2]): 1.00000000000000, (Zq[2], Zq[3]): 1.72000000000000, (Xq[2], Xq[3]): 1.00000000000000, (Yq[2], Yq[3]): 1.00000000000000, (Zq[3], Zq[4]): 1.72000000000000, (Xq[3], Xq[4]): 1.00000000000000, (Yq[3], Yq[4]): 1.00000000000000}\n"
     ]
    }
   ],
   "source": [
    "n_qubits = 5\n",
    "Delta_ZZ = 1.72\n",
    "\n",
    "xxz_ham = get_xxz_chain_hamiltonian(n_qubits=n_qubits, Delta_ZZ=Delta_ZZ)\n",
    "print(xxz_ham)"
   ]
  },
  {
   "cell_type": "code",
   "execution_count": 410,
   "metadata": {},
   "outputs": [],
   "source": [
    "ising_ham = get_transverse_field_hamiltonian(n_qubits, 1.2, 1)"
   ]
  },
  {
   "cell_type": "markdown",
   "metadata": {},
   "source": [
    "### Task 1: Energy conservation\n",
    "\n",
    "The expectation value of the Hamiltonian $H$ gives the energy of the system. This energy does not change during unitary time evolution of the system, i.e. if the initial state has energy $E$, the energy of the system will be $E$ for all times.\n",
    "\n",
    "Below we will test how good our Trotterized circuit fulfills energy conservation."
   ]
  },
  {
   "cell_type": "markdown",
   "metadata": {},
   "source": [
    "We start by computing the energy of the initial zero state $\\ket{\\psi} = \\ket{0}^{\\otimes N}$. This is the default initial state if one generates an empty circuit without any further gates. We compute the expectation of $H$ using the `pytket` function `get_operator_expectation_value`. For simulating the (empty) circuit simulation we use the AerBackend and choose 1000 shots. The expectation value of any Hermitian operator is real. Because we are doing numerics, there might be a negligible imaginary part of order machine precision, which we can just discard."
   ]
  },
  {
   "cell_type": "code",
   "execution_count": 417,
   "metadata": {},
   "outputs": [
    {
     "name": "stdout",
     "output_type": "stream",
     "text": [
      "Energy: 6.761999999999999\n",
      "Energy after X 3.332\n",
      "Energy after Z 6.840000000000001\n",
      "Ising energy: -4.784000000000001\n"
     ]
    }
   ],
   "source": [
    "n_qubits = 5\n",
    "n_shots = 1000\n",
    "\n",
    "initial_state_circtuit = Circuit(n_qubits=n_qubits, name=\"Initial state\")\n",
    "energy = get_operator_expectation_value(initial_state_circtuit, xxz_ham, aer_sim, n_shots=n_shots)\n",
    "print(\"Energy:\", energy.real)\n",
    "circuit_two = initial_state_circtuit\n",
    "circuit_two.X(0)\n",
    "energy2 = get_operator_expectation_value(circuit_two, xxz_ham, aer_sim, n_shots=n_shots)\n",
    "circuit_three = circuit_two\n",
    "circuit_three.X(0)\n",
    "# undo X from 2\n",
    "circuit_three.Z(0)\n",
    "energy3 = get_operator_expectation_value(circuit_three, xxz_ham, aer_sim, n_shots=n_shots)\n",
    "print(\"Energy after X\", energy2.real)\n",
    "print(\"Energy after Z\", energy3.real)\n",
    "\n",
    "energy_ising = get_operator_expectation_value(Circuit(n_qubits=n_qubits, name=\"Initial state\"), ising_ham, aer_sim, n_shots=n_shots)\n",
    "print(\"Ising energy:\", energy_ising.real)"
   ]
  },
  {
   "cell_type": "markdown",
   "metadata": {},
   "source": [
    "Test how the energy is changing if you apply a few simple gates before you compute the expectation value with `get_operator_expectation_value`."
   ]
  },
  {
   "cell_type": "markdown",
   "metadata": {},
   "source": [
    "Next we check if the energy is conserved under system evolution.\n",
    "- Use `t_max = 20`, discretize the interval `[1, t_max]` into several steps, e.g. `times = np.linspace(1, 20, 5)`, and generate the time evolution circuit for each `t` in `times`. You can use e.g. $\\Delta t = 3$.\n",
    "- Use `time_evolution_circ_compiled = aer_sim.get_compiled_circuit(time_evolution_circ, optimisation_level = 2)` to compile and optimize the circuit. Optimization will result in shorter simulation times.\n",
    "- Monitor the number of two-qubit gates of the compiled and uncompiled circuits as you change `t`. You get this number in pytket via `circ.2_qb_gates()`.\n",
    "- Compute the energy expectation at the output of each of those circuits. You can use a smaller number of shots, e.g. `n_shots = 100`, for this.\n",
    "- Plot the obtained energy expectation values against `times`.\n",
    "\n",
    "Hints:\n",
    "- To get two-qubit gate counts of the uncompiled circuit, you will probably need to decompose all boxes with `DecomposeBoxes().apply(time_evolution_circ)` before getting the gate count with `time_evolution_circ.n_2qb_gates()`.\n",
    "- As you will see, the optimization during compilation significantly reduces the two-qubit gate count. This will reduce the time it requires to simulate the circuit classically. Therefore, it is usually a good idea to optimize circuits before running them on either a classical simulator or actual quantum hardware.\n",
    "- You can also monitor the time to compute the expectation values for varied `t`. Plot these timings and the number of two-qubit gates versus `times`.\n",
    "- The energy expectation should roughly be the same for each `t` in `times`, i.e. stay constant."
   ]
  },
  {
   "cell_type": "code",
   "execution_count": 430,
   "metadata": {
    "scrolled": true
   },
   "outputs": [
    {
     "name": "stdout",
     "output_type": "stream",
     "text": [
      "t = 0.1, p = 4\n",
      "2 qubit gate count:  16\n",
      "energy:  -4.4719999999999995\n",
      "t = 0.575, p = 20\n",
      "2 qubit gate count:  80\n",
      "energy:  -4.768000000000001\n",
      "t = 1.05, p = 36\n",
      "2 qubit gate count:  144\n",
      "energy:  -4.784\n",
      "t = 1.525, p = 51\n",
      "2 qubit gate count:  204\n",
      "energy:  -4.34\n",
      "t = 2.0, p = 67\n",
      "2 qubit gate count:  268\n",
      "energy:  -4.612\n"
     ]
    }
   ],
   "source": [
    "t_max = 2\n",
    "n_shots = 100\n",
    "times = np.linspace(0.1, t_max, 5)\n",
    "trotter_step_size = 0.03\n",
    "y1 = []\n",
    "y2 = []\n",
    "for t in times:\n",
    "    # n cubits, J, g, p, t\n",
    "    print(f\"t = {t}, p = {int(t // trotter_step_size + 1)}\")\n",
    "    circ_lcl = get_transverse_order_1_trotterisation_circuit(n_qubits, 1.2, 1, int(t // trotter_step_size + 1), t)\n",
    "    DecomposeBoxes().apply(circ_lcl)\n",
    "    print(\"2 qubit gate count: \", circ_lcl.n_2qb_gates())\n",
    "    #time_evolution_circ_compiled = aer_sim.get_compiled_circuit(circ_lcl, optimisation_level=2)\n",
    "    #print(\"After: \", time_evolution_circ_compiled.n_2qb_gates())\n",
    "    energy = get_operator_expectation_value(circ_lcl, ising_ham, aer_sim, n_shots=n_shots)\n",
    "    print(\"energy: \", energy.real)\n",
    "    y1.append(circ_lcl.n_2qb_gates())\n",
    "    y2.append(energy.real)"
   ]
  },
  {
   "cell_type": "code",
   "execution_count": 432,
   "metadata": {},
   "outputs": [
    {
     "data": {
      "image/png": "[encoded data removed]",
      "text/plain": [
       "<Figure size 640x480 with 1 Axes>"
      ]
     },
     "metadata": {},
     "output_type": "display_data"
    },
    {
     "data": {
      "image/png": "[encoded data removed]",
      "text/plain": [
       "<Figure size 640x480 with 1 Axes>"
      ]
     },
     "metadata": {},
     "output_type": "display_data"
    },
    {
     "name": "stdout",
     "output_type": "stream",
     "text": [
      "Root mean square error of energy:  0.25468411807570634\n"
     ]
    }
   ],
   "source": [
    "import matplotlib.pyplot as plt\n",
    "\n",
    "plt.plot(times, y1)\n",
    "plt.title(\"2 Qubit Gates Needed over Simulated Timeframe\")\n",
    "plt.show()\n",
    "plt.clf()\n",
    "plt.plot(times, y2, label=\"Simulated Energy\")\n",
    "plt.plot(times, [energy_ising.real] * len(y2), label=\"Initial Energy\")\n",
    "plt.legend()\n",
    "plt.title(\"Energy over Simulated Timeframe\")\n",
    "plt.show()\n",
    "\n",
    "print(\"Root mean square error of energy: \", np.linalg.norm(np.array(y2) - np.array([energy_ising.real] * len(y2)))/np.sqrt(len(y2)))"
   ]
  },
  {
   "cell_type": "markdown",
   "metadata": {},
   "source": [
    "### Task 2: Influence of noise\n",
    "\n",
    "Study how hardware noise, emulated with e.g. the Quantinuum noise models, affects the results."
   ]
  },
  {
   "cell_type": "code",
   "execution_count": 446,
   "metadata": {},
   "outputs": [
    {
     "name": "stdout",
     "output_type": "stream",
     "text": [
      "t = 0.1, p = 4\n",
      "2 qubit gate count:  16\n"
     ]
    },
    {
     "ename": "AttributeError",
     "evalue": "'QuantinuumConfig' object has no attribute 'process_circuits'",
     "output_type": "error",
     "traceback": [
      "\u001b[0;31m---------------------------------------------------------------------------\u001b[0m",
      "\u001b[0;31mAttributeError\u001b[0m                            Traceback (most recent call last)",
      "Cell \u001b[0;32mIn[446], line 11\u001b[0m\n\u001b[1;32m      8\u001b[0m \u001b[38;5;28mprint\u001b[39m(\u001b[38;5;124m\"\u001b[39m\u001b[38;5;124m2 qubit gate count: \u001b[39m\u001b[38;5;124m\"\u001b[39m, circ_lcl\u001b[38;5;241m.\u001b[39mn_2qb_gates())\n\u001b[1;32m      9\u001b[0m \u001b[38;5;66;03m#time_evolution_circ_compiled = quantinuum_sim.get_compiled_circuit(circ_lcl, optimisation_level=2)\u001b[39;00m\n\u001b[1;32m     10\u001b[0m \u001b[38;5;66;03m#print(\"After: \", time_evolution_circ_compiled.n_2qb_gates())\u001b[39;00m\n\u001b[0;32m---> 11\u001b[0m energy \u001b[38;5;241m=\u001b[39m \u001b[43mget_operator_expectation_value\u001b[49m\u001b[43m(\u001b[49m\u001b[43mcirc_lcl\u001b[49m\u001b[43m,\u001b[49m\u001b[43m \u001b[49m\u001b[43mising_ham\u001b[49m\u001b[43m,\u001b[49m\u001b[43m \u001b[49m\u001b[43mquantinuum_sim\u001b[49m\u001b[43m,\u001b[49m\u001b[43m \u001b[49m\u001b[43mn_shots\u001b[49m\u001b[38;5;241;43m=\u001b[39;49m\u001b[43mn_shots\u001b[49m\u001b[43m)\u001b[49m\n\u001b[1;32m     12\u001b[0m \u001b[38;5;28mprint\u001b[39m(\u001b[38;5;124m\"\u001b[39m\u001b[38;5;124menergy: \u001b[39m\u001b[38;5;124m\"\u001b[39m, energy\u001b[38;5;241m.\u001b[39mreal)\n\u001b[1;32m     13\u001b[0m y_error\u001b[38;5;241m.\u001b[39mappend(energy\u001b[38;5;241m.\u001b[39mreal)\n",
      "File \u001b[0;32m/opt/conda/lib/python3.10/site-packages/pytket/utils/expectations.py:178\u001b[0m, in \u001b[0;36mget_operator_expectation_value\u001b[0;34m(state_circuit, operator, backend, n_shots, partition_strat, colour_method, **kwargs)\u001b[0m\n\u001b[1;32m    173\u001b[0m coeffs \u001b[38;5;241m=\u001b[39m [\u001b[38;5;28mcomplex\u001b[39m(c) \u001b[38;5;28;01mfor\u001b[39;00m c \u001b[38;5;129;01min\u001b[39;00m operator_without_id\u001b[38;5;241m.\u001b[39m_dict\u001b[38;5;241m.\u001b[39mvalues()]\n\u001b[1;32m    174\u001b[0m pauli_circuits \u001b[38;5;241m=\u001b[39m \u001b[38;5;28mlist\u001b[39m(\n\u001b[1;32m    175\u001b[0m     _all_pauli_measurements(operator_without_id, state_circuit)\n\u001b[1;32m    176\u001b[0m )\n\u001b[0;32m--> 178\u001b[0m handles \u001b[38;5;241m=\u001b[39m \u001b[43mbackend\u001b[49m\u001b[38;5;241;43m.\u001b[39;49m\u001b[43mprocess_circuits\u001b[49m(\n\u001b[1;32m    179\u001b[0m     backend\u001b[38;5;241m.\u001b[39mget_compiled_circuits(pauli_circuits),\n\u001b[1;32m    180\u001b[0m     n_shots,\n\u001b[1;32m    181\u001b[0m     valid_check\u001b[38;5;241m=\u001b[39m\u001b[38;5;28;01mTrue\u001b[39;00m,\n\u001b[1;32m    182\u001b[0m     \u001b[38;5;241m*\u001b[39m\u001b[38;5;241m*\u001b[39mkwargs,\n\u001b[1;32m    183\u001b[0m )\n\u001b[1;32m    184\u001b[0m results \u001b[38;5;241m=\u001b[39m backend\u001b[38;5;241m.\u001b[39mget_results(handles)\n\u001b[1;32m    185\u001b[0m \u001b[38;5;28;01mif\u001b[39;00m backend\u001b[38;5;241m.\u001b[39msupports_counts:\n",
      "File \u001b[0;32m/opt/conda/lib/python3.10/site-packages/pydantic/main.py:828\u001b[0m, in \u001b[0;36mBaseModel.__getattr__\u001b[0;34m(self, item)\u001b[0m\n\u001b[1;32m    825\u001b[0m     \u001b[38;5;28;01mreturn\u001b[39;00m \u001b[38;5;28msuper\u001b[39m()\u001b[38;5;241m.\u001b[39m\u001b[38;5;21m__getattribute__\u001b[39m(item)  \u001b[38;5;66;03m# Raises AttributeError if appropriate\u001b[39;00m\n\u001b[1;32m    826\u001b[0m \u001b[38;5;28;01melse\u001b[39;00m:\n\u001b[1;32m    827\u001b[0m     \u001b[38;5;66;03m# this is the current error\u001b[39;00m\n\u001b[0;32m--> 828\u001b[0m     \u001b[38;5;28;01mraise\u001b[39;00m \u001b[38;5;167;01mAttributeError\u001b[39;00m(\u001b[38;5;124mf\u001b[39m\u001b[38;5;124m'\u001b[39m\u001b[38;5;132;01m{\u001b[39;00m\u001b[38;5;28mtype\u001b[39m(\u001b[38;5;28mself\u001b[39m)\u001b[38;5;241m.\u001b[39m\u001b[38;5;18m__name__\u001b[39m\u001b[38;5;132;01m!r}\u001b[39;00m\u001b[38;5;124m object has no attribute \u001b[39m\u001b[38;5;132;01m{\u001b[39;00mitem\u001b[38;5;132;01m!r}\u001b[39;00m\u001b[38;5;124m'\u001b[39m)\n",
      "\u001b[0;31mAttributeError\u001b[0m: 'QuantinuumConfig' object has no attribute 'process_circuits'"
     ]
    }
   ],
   "source": [
    "y_error = []\n",
    "n_shots = 100\n",
    "for t in times:\n",
    "    # n cubits, J, g, p, t\n",
    "    print(f\"t = {t}, p = {int(t // trotter_step_size + 1)}\")\n",
    "    circ_lcl = get_transverse_order_1_trotterisation_circuit(n_qubits, 1.2, 1, int(t // trotter_step_size + 1), t)\n",
    "    DecomposeBoxes().apply(circ_lcl)\n",
    "    print(\"2 qubit gate count: \", circ_lcl.n_2qb_gates())\n",
    "    #time_evolution_circ_compiled = quantinuum_sim.get_compiled_circuit(circ_lcl, optimisation_level=2)\n",
    "    #print(\"After: \", time_evolution_circ_compiled.n_2qb_gates())\n",
    "    energy = get_operator_expectation_value(circ_lcl, ising_ham, quantinuum_sim, n_shots=n_shots)\n",
    "    print(\"energy: \", energy.real)\n",
    "    y_error.append(energy.real)"
   ]
  },
  {
   "cell_type": "markdown",
   "metadata": {},
   "source": [
    "### Task 3: Hamiltonian system dynamics\n",
    "\n",
    "Compute time dependent expectation values for other observable, for example $X^{(i)}$ for one of the qubits $i$, or a correlator $X^{(i)} X^{(j)}$. Would you expect these expectation values to vary in time?"
   ]
  },
  {
   "cell_type": "code",
   "execution_count": null,
   "metadata": {},
   "outputs": [],
   "source": []
  },
  {
   "cell_type": "markdown",
   "metadata": {},
   "source": [
    "### Task 4: Hamiltonian system dynamics\n",
    "\n",
    "Diagonalise the Hamiltonian numerically and obtain two eigenstates with different energies, for example take eigenstates of the two lowest energy levels. Use build-in functionality, such as pytket's `StatePreparationBox` to prepare a uniform superposition $\\ket{\\psi}$ of both states with a quantum circuit.\n",
    "\n",
    "Simulate the time evolution of the expectation value of $Z_i$ (or any other easy observable) with $\\ket{\\psi}$ as initial state, and plot the time evolution. What do you expect? How does the frequency of oscillation relate to the energy levels of the Hamiltonian?"
   ]
  },
  {
   "cell_type": "code",
   "execution_count": null,
   "metadata": {},
   "outputs": [],
   "source": []
  },
  {
   "cell_type": "markdown",
   "metadata": {},
   "source": [
    "### Task 5: Time evolution of the Ising model\n",
    "\n",
    "You can explore the above tasks for the Ising model instead of the XXZ model. Since the Ising model suffers Trotterization error, you might find that this model conserves energy less accurate as the XXZ model."
   ]
  },
  {
   "cell_type": "code",
   "execution_count": null,
   "metadata": {},
   "outputs": [],
   "source": []
  },
  {
   "cell_type": "code",
   "execution_count": null,
   "metadata": {},
   "outputs": [],
   "source": []
  },
  {
   "cell_type": "code",
   "execution_count": null,
   "metadata": {},
   "outputs": [],
   "source": []
  }
 ],
 "metadata": {
  "kernelspec": {
   "display_name": "Python [conda env:base] *",
   "language": "python",
   "name": "conda-base-py"
  },
  "language_info": {
   "codemirror_mode": {
    "name": "ipython",
    "version": 3
   },
   "file_extension": ".py",
   "mimetype": "text/x-python",
   "name": "python",
   "nbconvert_exporter": "python",
   "pygments_lexer": "ipython3",
   "version": "3.10.11"
  }
 },
 "nbformat": 4,
 "nbformat_minor": 4
}
